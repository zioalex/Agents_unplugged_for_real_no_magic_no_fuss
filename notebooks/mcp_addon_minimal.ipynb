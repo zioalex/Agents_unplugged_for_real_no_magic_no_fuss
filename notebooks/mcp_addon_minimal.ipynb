{
 "cells": [
  {
   "cell_type": "markdown",
   "id": "bcb4b431",
   "metadata": {},
   "source": [
    "# MCP Add‑On — Safe tool server + LangChain adapter"
   ]
  },
  {
   "cell_type": "markdown",
   "id": "5ae58471",
   "metadata": {},
   "source": [
    "Install (once): `pip install -U \"mcp[cli]\" langchain-mcp-adapters`"
   ]
  },
  {
   "cell_type": "code",
   "execution_count": 11,
   "id": "9e640f03",
   "metadata": {},
   "outputs": [],
   "source": [
    "from __future__ import annotations\n",
    "from mcp.server.fastmcp import FastMCP\n",
    "import re, ast, operator, json\n",
    "\n",
    "OPS = {\n",
    "    ast.Add: operator.add, ast.Sub: operator.sub,\n",
    "    ast.Mult: operator.mul, ast.Div: operator.truediv,\n",
    "    ast.Pow: operator.pow, ast.USub: operator.neg,\n",
    "    ast.Mod: operator.mod, ast.FloorDiv: operator.floordiv\n",
    "}\n",
    "def _eval(node):\n",
    "    if isinstance(node, ast.Num): return node.n\n",
    "    if isinstance(node, ast.BinOp): return OPS[type(node.op)](_eval(node.left), _eval(node.right))\n",
    "    if isinstance(node, ast.UnaryOp): return OPS[type(node.op)](_eval(node.operand))\n",
    "    raise ValueError(\"Unsupported expression\")\n",
    "def safe_calculator(expression: str) -> str:\n",
    "    node = ast.parse(expression, mode='eval').body\n",
    "    return str(_eval(node))\n",
    "\n",
    "POLICIES = [\n",
    "    {\"id\": \"TravelPlus-2024\", \"text\": \"TravelPlus provides coverage for business travel including delayed flights, lost baggage, and emergency medical expenses up to CHF 10,000. Personal electronics are covered if they are lost due to theft, with a deductible of CHF 200. Pure misplacement is not covered.\"},\n",
    "    {\"id\": \"DeviceCare-Pro\", \"text\": \"DeviceCare-Pro covers accidental damage to smartphones and laptops used for work. Loss or theft is covered only when a police report is filed within 48 hours. Maximum payout CHF 1,500 per device, 2 incidents per policy year.\"},\n",
    "    {\"id\": \"FleetAssist\", \"text\": \"FleetAssist covers rented vehicles during company travel. It excludes personal property inside the vehicle unless explicitly endorsed.\"},\n",
    "]\n",
    "def simple_search(query: str, top_k: int = 3):\n",
    "    terms = [t.lower() for t in re.findall(r\"\\w+\", query)]\n",
    "    scored = []\n",
    "    for doc in POLICIES:\n",
    "        text = doc[\"text\"].lower()\n",
    "        score = sum(text.count(t) for t in set(terms))\n",
    "        if score > 0:\n",
    "            scored.append((score, doc))\n",
    "    scored.sort(key=lambda x: x[0], reverse=True)\n",
    "    return [doc for _, doc in scored[:top_k]]\n",
    "\n",
    "mcp = FastMCP(\"SR-Policies\", stateless_http=True, host=\"127.0.0.1\", port=3001)\n",
    "MAX_Q = 200\n",
    "BANNED = re.compile(r\"(?i)(rm\\s|-rf|\\bimport\\b|__|eval\\(|exec\\()\")\n",
    "\n",
    "@mcp.tool()\n",
    "def secure_search_policies(query: str) -> dict:\n",
    "    if not query or len(query) > MAX_Q or BANNED.search(query or \"\"):\n",
    "        return {\"error\": \"query_rejected\"}\n",
    "    hits = simple_search(query, top_k=3)\n",
    "    return {\"results\": [{\"id\": h[\"id\"], \"snippet\": h[\"text\"][:280]} for h in hits]}\n",
    "\n",
    "@mcp.tool()\n",
    "def safe_calc(expression: str) -> str:\n",
    "    if len(expression or \"\") > 100 or BANNED.search(expression or \"\"):\n",
    "        return \"error: expression_rejected\"\n",
    "    try:\n",
    "        return safe_calculator(expression)\n",
    "    except Exception as e:\n",
    "        return f\"error: {e}\"\n",
    "\n",
    "if __name__ == \"__main__\":               \n",
    "    mcp.run(transport=\"streamable-http\") \n",
    "\n"
   ]
  },
  {
   "cell_type": "code",
   "execution_count": 15,
   "id": "0a5c5ba1",
   "metadata": {},
   "outputs": [
    {
     "data": {
      "text/html": [
       "<pre style=\"white-space:pre;overflow-x:auto;line-height:normal;font-family:Menlo,'DejaVu Sans Mono',consolas,'Courier New',monospace\"><span style=\"color: #7fbfbf; text-decoration-color: #7fbfbf\">[09/29/25 16:53:08] </span><span style=\"color: #000080; text-decoration-color: #000080\">INFO    </span> HTTP Request: <span style=\"color: #808000; text-decoration-color: #808000; font-weight: bold\">POST</span> <span style=\"color: #0000ff; text-decoration-color: #0000ff; text-decoration: underline\">http://127.0.0.1:3001/mcp/</span> <span style=\"color: #008000; text-decoration-color: #008000\">\"HTTP/1.1 307 Temporary </span> <span style=\"color: #7f7f7f; text-decoration-color: #7f7f7f\">_client.py:1786</span>\n",
       "<span style=\"color: #7fbfbf; text-decoration-color: #7fbfbf\">                    </span>         <span style=\"color: #008000; text-decoration-color: #008000\">Redirect\"</span>                                                              <span style=\"color: #7f7f7f; text-decoration-color: #7f7f7f\">               </span>\n",
       "</pre>\n"
      ],
      "text/plain": [
       "\u001b[2;36m[09/29/25 16:53:08]\u001b[0m\u001b[2;36m \u001b[0m\u001b[34mINFO    \u001b[0m HTTP Request: \u001b[1;33mPOST\u001b[0m \u001b[4;94mhttp://127.0.0.1:3001/mcp/\u001b[0m \u001b[32m\"HTTP/1.1 307 Temporary \u001b[0m \u001b[2m_client.py\u001b[0m\u001b[2m:\u001b[0m\u001b[2m1786\u001b[0m\n",
       "\u001b[2;36m                    \u001b[0m         \u001b[32mRedirect\"\u001b[0m                                                              \u001b[2m               \u001b[0m\n"
      ]
     },
     "metadata": {},
     "output_type": "display_data"
    },
    {
     "data": {
      "text/html": [
       "<pre style=\"white-space:pre;overflow-x:auto;line-height:normal;font-family:Menlo,'DejaVu Sans Mono',consolas,'Courier New',monospace\"><span style=\"color: #7fbfbf; text-decoration-color: #7fbfbf\">                    </span><span style=\"color: #000080; text-decoration-color: #000080\">INFO    </span> HTTP Request: <span style=\"color: #808000; text-decoration-color: #808000; font-weight: bold\">POST</span> <span style=\"color: #0000ff; text-decoration-color: #0000ff; text-decoration: underline\">http://127.0.0.1:3001/mcp</span> <span style=\"color: #008000; text-decoration-color: #008000\">\"HTTP/1.1 200 OK\"</span>         <span style=\"color: #7f7f7f; text-decoration-color: #7f7f7f\">_client.py:1786</span>\n",
       "</pre>\n"
      ],
      "text/plain": [
       "\u001b[2;36m                   \u001b[0m\u001b[2;36m \u001b[0m\u001b[34mINFO    \u001b[0m HTTP Request: \u001b[1;33mPOST\u001b[0m \u001b[4;94mhttp://127.0.0.1:3001/mcp\u001b[0m \u001b[32m\"HTTP/1.1 200 OK\"\u001b[0m         \u001b[2m_client.py\u001b[0m\u001b[2m:\u001b[0m\u001b[2m1786\u001b[0m\n"
      ]
     },
     "metadata": {},
     "output_type": "display_data"
    },
    {
     "data": {
      "text/html": [
       "<pre style=\"white-space:pre;overflow-x:auto;line-height:normal;font-family:Menlo,'DejaVu Sans Mono',consolas,'Courier New',monospace\"><span style=\"color: #7fbfbf; text-decoration-color: #7fbfbf\">                    </span><span style=\"color: #000080; text-decoration-color: #000080\">INFO    </span> Negotiated protocol version: <span style=\"color: #008080; text-decoration-color: #008080; font-weight: bold\">2025</span>-<span style=\"color: #008080; text-decoration-color: #008080; font-weight: bold\">06</span>-<span style=\"color: #008080; text-decoration-color: #008080; font-weight: bold\">18</span>                         <span style=\"color: #7f7f7f; text-decoration-color: #7f7f7f\">streamable_http.py:146</span>\n",
       "</pre>\n"
      ],
      "text/plain": [
       "\u001b[2;36m                   \u001b[0m\u001b[2;36m \u001b[0m\u001b[34mINFO    \u001b[0m Negotiated protocol version: \u001b[1;36m2025\u001b[0m-\u001b[1;36m06\u001b[0m-\u001b[1;36m18\u001b[0m                         \u001b[2mstreamable_http.py\u001b[0m\u001b[2m:\u001b[0m\u001b[2m146\u001b[0m\n"
      ]
     },
     "metadata": {},
     "output_type": "display_data"
    },
    {
     "data": {
      "text/html": [
       "<pre style=\"white-space:pre;overflow-x:auto;line-height:normal;font-family:Menlo,'DejaVu Sans Mono',consolas,'Courier New',monospace\"><span style=\"color: #7fbfbf; text-decoration-color: #7fbfbf\">                    </span><span style=\"color: #000080; text-decoration-color: #000080\">INFO    </span> HTTP Request: <span style=\"color: #808000; text-decoration-color: #808000; font-weight: bold\">POST</span> <span style=\"color: #0000ff; text-decoration-color: #0000ff; text-decoration: underline\">http://127.0.0.1:3001/mcp/</span> <span style=\"color: #008000; text-decoration-color: #008000\">\"HTTP/1.1 307 Temporary </span> <span style=\"color: #7f7f7f; text-decoration-color: #7f7f7f\">_client.py:1786</span>\n",
       "<span style=\"color: #7fbfbf; text-decoration-color: #7fbfbf\">                    </span>         <span style=\"color: #008000; text-decoration-color: #008000\">Redirect\"</span>                                                              <span style=\"color: #7f7f7f; text-decoration-color: #7f7f7f\">               </span>\n",
       "</pre>\n"
      ],
      "text/plain": [
       "\u001b[2;36m                   \u001b[0m\u001b[2;36m \u001b[0m\u001b[34mINFO    \u001b[0m HTTP Request: \u001b[1;33mPOST\u001b[0m \u001b[4;94mhttp://127.0.0.1:3001/mcp/\u001b[0m \u001b[32m\"HTTP/1.1 307 Temporary \u001b[0m \u001b[2m_client.py\u001b[0m\u001b[2m:\u001b[0m\u001b[2m1786\u001b[0m\n",
       "\u001b[2;36m                    \u001b[0m         \u001b[32mRedirect\"\u001b[0m                                                              \u001b[2m               \u001b[0m\n"
      ]
     },
     "metadata": {},
     "output_type": "display_data"
    },
    {
     "data": {
      "text/html": [
       "<pre style=\"white-space:pre;overflow-x:auto;line-height:normal;font-family:Menlo,'DejaVu Sans Mono',consolas,'Courier New',monospace\"><span style=\"color: #7fbfbf; text-decoration-color: #7fbfbf\">                    </span><span style=\"color: #000080; text-decoration-color: #000080\">INFO    </span> HTTP Request: <span style=\"color: #808000; text-decoration-color: #808000; font-weight: bold\">POST</span> <span style=\"color: #0000ff; text-decoration-color: #0000ff; text-decoration: underline\">http://127.0.0.1:3001/mcp</span> <span style=\"color: #008000; text-decoration-color: #008000\">\"HTTP/1.1 202 Accepted\"</span>   <span style=\"color: #7f7f7f; text-decoration-color: #7f7f7f\">_client.py:1786</span>\n",
       "</pre>\n"
      ],
      "text/plain": [
       "\u001b[2;36m                   \u001b[0m\u001b[2;36m \u001b[0m\u001b[34mINFO    \u001b[0m HTTP Request: \u001b[1;33mPOST\u001b[0m \u001b[4;94mhttp://127.0.0.1:3001/mcp\u001b[0m \u001b[32m\"HTTP/1.1 202 Accepted\"\u001b[0m   \u001b[2m_client.py\u001b[0m\u001b[2m:\u001b[0m\u001b[2m1786\u001b[0m\n"
      ]
     },
     "metadata": {},
     "output_type": "display_data"
    },
    {
     "data": {
      "text/html": [
       "<pre style=\"white-space:pre;overflow-x:auto;line-height:normal;font-family:Menlo,'DejaVu Sans Mono',consolas,'Courier New',monospace\"><span style=\"color: #7fbfbf; text-decoration-color: #7fbfbf\">                    </span><span style=\"color: #000080; text-decoration-color: #000080\">INFO    </span> HTTP Request: <span style=\"color: #808000; text-decoration-color: #808000; font-weight: bold\">POST</span> <span style=\"color: #0000ff; text-decoration-color: #0000ff; text-decoration: underline\">http://127.0.0.1:3001/mcp/</span> <span style=\"color: #008000; text-decoration-color: #008000\">\"HTTP/1.1 307 Temporary </span> <span style=\"color: #7f7f7f; text-decoration-color: #7f7f7f\">_client.py:1786</span>\n",
       "<span style=\"color: #7fbfbf; text-decoration-color: #7fbfbf\">                    </span>         <span style=\"color: #008000; text-decoration-color: #008000\">Redirect\"</span>                                                              <span style=\"color: #7f7f7f; text-decoration-color: #7f7f7f\">               </span>\n",
       "</pre>\n"
      ],
      "text/plain": [
       "\u001b[2;36m                   \u001b[0m\u001b[2;36m \u001b[0m\u001b[34mINFO    \u001b[0m HTTP Request: \u001b[1;33mPOST\u001b[0m \u001b[4;94mhttp://127.0.0.1:3001/mcp/\u001b[0m \u001b[32m\"HTTP/1.1 307 Temporary \u001b[0m \u001b[2m_client.py\u001b[0m\u001b[2m:\u001b[0m\u001b[2m1786\u001b[0m\n",
       "\u001b[2;36m                    \u001b[0m         \u001b[32mRedirect\"\u001b[0m                                                              \u001b[2m               \u001b[0m\n"
      ]
     },
     "metadata": {},
     "output_type": "display_data"
    },
    {
     "data": {
      "text/html": [
       "<pre style=\"white-space:pre;overflow-x:auto;line-height:normal;font-family:Menlo,'DejaVu Sans Mono',consolas,'Courier New',monospace\"><span style=\"color: #7fbfbf; text-decoration-color: #7fbfbf\">                    </span><span style=\"color: #000080; text-decoration-color: #000080\">INFO    </span> HTTP Request: <span style=\"color: #808000; text-decoration-color: #808000; font-weight: bold\">POST</span> <span style=\"color: #0000ff; text-decoration-color: #0000ff; text-decoration: underline\">http://127.0.0.1:3001/mcp</span> <span style=\"color: #008000; text-decoration-color: #008000\">\"HTTP/1.1 200 OK\"</span>         <span style=\"color: #7f7f7f; text-decoration-color: #7f7f7f\">_client.py:1786</span>\n",
       "</pre>\n"
      ],
      "text/plain": [
       "\u001b[2;36m                   \u001b[0m\u001b[2;36m \u001b[0m\u001b[34mINFO    \u001b[0m HTTP Request: \u001b[1;33mPOST\u001b[0m \u001b[4;94mhttp://127.0.0.1:3001/mcp\u001b[0m \u001b[32m\"HTTP/1.1 200 OK\"\u001b[0m         \u001b[2m_client.py\u001b[0m\u001b[2m:\u001b[0m\u001b[2m1786\u001b[0m\n"
      ]
     },
     "metadata": {},
     "output_type": "display_data"
    },
    {
     "name": "stdout",
     "output_type": "stream",
     "text": [
      "MCP tools: ['secure_search_policies', 'safe_calc']\n"
     ]
    }
   ],
   "source": [
    "# Attach MCP tools to an existing LangChain agent (expects 'llm' and 'tools' defined in your session)\n",
    "from langchain_mcp_adapters.client import MultiServerMCPClient\n",
    "from langchain.agents import initialize_agent, AgentType\n",
    "import asyncio\n",
    "\n",
    "async def load_mcp_toolset():\n",
    "    client = MultiServerMCPClient({\n",
    "        \"sr_policies\": {\"transport\": \"streamable_http\", \"url\": \"http://127.0.0.1:3001/mcp/\"}\n",
    "    })\n",
    "    return await client.get_tools()\n",
    "\n",
    "try:\n",
    "    mcp_tools = await load_mcp_toolset()\n",
    "    print(\"MCP tools:\", [t.name for t in mcp_tools])\n",
    "except Exception as e:\n",
    "    print(\"Start the MCP server first. Error:\", e)\n"
   ]
  },
  {
   "cell_type": "code",
   "execution_count": null,
   "id": "76cb60ac",
   "metadata": {},
   "outputs": [],
   "source": []
  }
 ],
 "metadata": {
  "kernelspec": {
   "display_name": ".venv",
   "language": "python",
   "name": "python3"
  },
  "language_info": {
   "codemirror_mode": {
    "name": "ipython",
    "version": 3
   },
   "file_extension": ".py",
   "mimetype": "text/x-python",
   "name": "python",
   "nbconvert_exporter": "python",
   "pygments_lexer": "ipython3",
   "version": "3.12.3"
  }
 },
 "nbformat": 4,
 "nbformat_minor": 5
}
