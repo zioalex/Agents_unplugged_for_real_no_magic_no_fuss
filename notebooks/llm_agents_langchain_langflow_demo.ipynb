{
 "cells": [
  {
   "cell_type": "markdown",
   "id": "d1f32d83",
   "metadata": {},
   "source": [
    "# Agents Unplugged - for Real, no magic, no fuss\n",
    "## LangChain, LangFlow and LangGraph"
   ]
  },
  {
   "cell_type": "markdown",
   "id": "3bf5acf3",
   "metadata": {},
   "source": [
    "### Notebook overview (high‑level)\n",
    "\n",
    "\n",
    "The diagram below shows the major sections and flows demonstrated in this notebook.\n",
    "\n",
    "\n",
    "\n",
    "<details>\n",
    "\n",
    "\n",
    "  <summary>Show/Hide overview diagram</summary>\n",
    "\n",
    "\n",
    "\n",
    "```mermaid\n",
    "graph TD\n",
    "  A[\"Setup & Config\"] --> B[\"LLM + Tools<BR>(search, calculator)\"]\n",
    "  B --> C[\"ReAct Agent demo\"]\n",
    "  C --> D[\"Micro‑evaluator\"]\n",
    "  B --> E[\"Optional:<BR>LangFlow API call\"]\n",
    "  B --> F[\"LangGraph:<BR>simple retrieve → answer\"]\n",
    "  F --> G[\"LangGraph:<BR> routed (calc vs retrieve)\"]\n",
    "  G --> H[\"Human‑in‑the‑loop graph\"]\n",
    "  H -->|interrupt_before human_review| I[(Paused state)]\n",
    "  I -->|reject| R[\"Loop: retrieve → answer\"]\n",
    "  R --> H\n",
    "  I -->|accept| J[\"Finalize to END\"]\n",
    "  J --> K[\"Helper: resume_to_end\"]\n",
    "  K --> L[(END state)]\n",
    "\n",
    "\n",
    "  %% MCP: tools surfaced via a simple server\n",
    "  B -.->|\"also exposed via MCP\"| S[\"Simple MCP Server<BR>Tools: search_policies, calculator\"]\n",
    "  subgraph MCP[\"MCP integration\"]\n",
    "    X[\"MCP Client / Bridge\"]\n",
    "  end\n",
    "  C -->|\"tool calls\"| X\n",
    "  F -->|\"tool calls\"| X\n",
    "  G -->|\"tool calls\"| X\n",
    "  H -->|\"tool calls\"| X\n",
    "  X -->|\"MCP protocol\"| S\n",
    "\n",
    "\n",
    "  %% optional visualization step\n",
    "  J --> M[\"Optional: stream finalization (no interrupt)\"]\n",
    "\n",
    "\n",
    "  classDef section fill:#eef,stroke:#333,color:#000\n",
    "  class A,B,C,D,E,F,G,H,I,J,K,L,M,S,X section\n",
    "```\n",
    "\n",
    "\n",
    "</details>\n",
    "\n",
    "\n"
   ]
  },
  {
   "cell_type": "code",
   "execution_count": 1,
   "id": "5a2ba8ce",
   "metadata": {},
   "outputs": [],
   "source": [
    "import json, os\n",
    "file_name = 'config.json'  #paste path here\n",
    "with open(file_name, 'r') as file:\n",
    "    config = json.load(file)\n",
    "    API_KEY = config.get(\"API_KEY\") # Loading the API Key\n",
    "    OPENAI_API_BASE = config.get(\"OPENAI_API_BASE\") # Loading the API Base Url\n",
    "    LANGFLOW_API_KEY = config.get(\"LANGFLOW_API_KEY\") # Loading the Langflow API Key"
   ]
  },
  {
   "cell_type": "code",
   "execution_count": 2,
   "id": "ee68a048",
   "metadata": {},
   "outputs": [],
   "source": [
    "# Importing the GPT-4 LLM and setting it up\n",
    "os.environ['OPENAI_API_KEY']= API_KEY\n",
    "os.environ[\"OPENAI_API_BASE\"] = OPENAI_API_BASE\n",
    "os.environ[\"LANGFLOW_API_KEY\"] = LANGFLOW_API_KEY"
   ]
  },
  {
   "cell_type": "code",
   "execution_count": 6,
   "id": "ea93416a",
   "metadata": {},
   "outputs": [
    {
     "name": "stderr",
     "output_type": "stream",
     "text": [
      "/home/asurace/github/Agents unplugged_ real_no_magic_no_fuss/.venv/lib/python3.12/site-packages/tqdm/auto.py:21: TqdmWarning: IProgress not found. Please update jupyter and ipywidgets. See https://ipywidgets.readthedocs.io/en/stable/user_install.html\n",
      "  from .autonotebook import tqdm as notebook_tqdm\n"
     ]
    },
    {
     "data": {
      "text/plain": [
       "AIMessage(content=\"I'm just a computer program, so I don't have feelings, but I'm here and ready to help you! How can I assist you today?\", additional_kwargs={'refusal': None}, response_metadata={'token_usage': {'completion_tokens': 28, 'prompt_tokens': 13, 'total_tokens': 41, 'completion_tokens_details': {'accepted_prediction_tokens': 0, 'audio_tokens': 0, 'reasoning_tokens': 0, 'rejected_prediction_tokens': 0}, 'prompt_tokens_details': {'audio_tokens': 0, 'cached_tokens': 0}}, 'model_name': 'gpt-4o-mini-2024-07-18', 'system_fingerprint': 'fp_51db84afab', 'id': 'chatcmpl-CL5xB2G5MR5Dhp3aZuzM20Gq8nprO', 'service_tier': 'default', 'finish_reason': 'stop', 'logprobs': None}, id='run--8ccd08b8-3004-4673-abe1-4e97ee517c79-0', usage_metadata={'input_tokens': 13, 'output_tokens': 28, 'total_tokens': 41, 'input_token_details': {'audio': 0, 'cache_read': 0}, 'output_token_details': {'audio': 0, 'reasoning': 0}})"
      ]
     },
     "execution_count": 6,
     "metadata": {},
     "output_type": "execute_result"
    }
   ],
   "source": [
    "# Backend config — set ONE line\n",
    "BACKEND = \"OPENAI\" # \"OLLAMA\"  # or \"OPENAI\"\n",
    "MODEL_OPENAI = \"gpt-4o-mini\"\n",
    "MODEL_OLLAMA = \"llama3.1:8b\"  # ensure it's pulled if using Ollama\n",
    "\n",
    "import os, json, re, math, requests, ast, operator\n",
    "from typing import List, Dict, Any\n",
    "\n",
    "from langchain.tools import Tool\n",
    "from langchain.agents import initialize_agent, AgentType\n",
    "\n",
    "try:\n",
    "    if BACKEND == \"OPENAI\":\n",
    "        from langchain_openai import ChatOpenAI\n",
    "        llm = ChatOpenAI(model=MODEL_OPENAI, temperature=0.2)\n",
    "    else:\n",
    "        try:\n",
    "            from langchain_community.chat_models import ChatOllama\n",
    "        except Exception:\n",
    "            from langchain_community.llms import Ollama as ChatOllama\n",
    "        llm = ChatOllama(model=MODEL_OLLAMA)\n",
    "except Exception as e:\n",
    "    raise RuntimeError(f\"Could not initialize LLM for BACKEND={BACKEND}: {e}\")\n",
    "\n",
    "llm.invoke(\"How are you doing today?\")  # test if LLM is working"
   ]
  },
  {
   "cell_type": "code",
   "execution_count": 92,
   "id": "3e7d40f6",
   "metadata": {},
   "outputs": [],
   "source": [
    "# Tiny policy corpus + tools\n",
    "POLICIES = [\n",
    "    {\"id\": \"TravelPlus-2024\", \"text\": \"TravelPlus provides coverage for business travel including delayed flights, lost baggage, and emergency medical expenses up to CHF 10,000. Personal electronics are covered if they are lost due to theft, with a deductible of CHF 200. Pure misplacement is not covered.\"},\n",
    "    {\"id\": \"DeviceCare-Pro\", \"text\": \"DeviceCare-Pro covers accidental damage to smartphones and laptops used for work. Loss or theft is covered only when a police report is filed within 48 hours. Maximum payout CHF 1,500 per device, 2 incidents per policy year.\"},\n",
    "    {\"id\": \"FleetAssist\", \"text\": \"FleetAssist covers rented vehicles during company travel. It excludes personal property inside the vehicle unless explicitly endorsed.\"},\n",
    "]\n",
    "\n",
    "def simple_search(query: str, top_k: int = 3):\n",
    "    terms = [t.lower() for t in re.findall(r\"\\w+\", query)]\n",
    "    scored = []\n",
    "    for doc in POLICIES:\n",
    "        text = doc[\"text\"].lower()\n",
    "        score = sum(text.count(t) for t in set(terms))\n",
    "        if score > 0:\n",
    "            scored.append((score, doc))\n",
    "    scored.sort(key=lambda x: x[0], reverse=True)\n",
    "    return [doc for _, doc in scored[:top_k]]\n",
    "\n",
    "def search_policies(query: str) -> str:\n",
    "    hits = simple_search(query, top_k=3)\n",
    "    return json.dumps({\"results\": [{\"id\": h[\"id\"], \"snippet\": h[\"text\"][:280]} for h in hits]})\n",
    "\n",
    "# Safe calculator tool using ast (updated for Python 3.12+)\n",
    "OPS = {ast.Add: operator.add, ast.Sub: operator.sub, ast.Mult: operator.mul, ast.Div: operator.truediv,\n",
    "       ast.Pow: operator.pow, ast.USub: operator.neg, ast.Mod: operator.mod, ast.FloorDiv: operator.floordiv}\n",
    "\n",
    "def _eval(node):\n",
    "    # Python 3.12+: ast.Constant replaces ast.Num\n",
    "    if isinstance(node, ast.Constant) and isinstance(node.value, (int, float)):\n",
    "        return node.value\n",
    "    # Back-compat for < 3.8 code paths (harmless on >=3.8, will just be False)\n",
    "    if hasattr(ast, \"Num\") and isinstance(node, ast.Num):\n",
    "        return node.n\n",
    "    if isinstance(node, ast.BinOp):\n",
    "        return OPS[type(node.op)](_eval(node.left), _eval(node.right))\n",
    "    if isinstance(node, ast.UnaryOp):\n",
    "        return OPS[type(node.op)](_eval(node.operand))\n",
    "    raise ValueError(\"Unsupported expression\")\n",
    "\n",
    "def calculator(expression: str) -> str:\n",
    "    try:\n",
    "        node = ast.parse(expression, mode='eval').body\n",
    "        return str(_eval(node))\n",
    "    except Exception as e:\n",
    "        return f\"Error: {e}\"\n",
    "\n",
    "tools = [\n",
    "    Tool(name=\"search_policies\", func=search_policies, description=\"Search a tiny policy corpus. Returns JSON.\"),\n",
    "    Tool(name=\"calculator\", func=calculator, description=\"Evaluate arithmetic like '2*(1500-200)'. Returns a number as text.\")\n",
    "]"
   ]
  },
  {
   "cell_type": "markdown",
   "id": "0f4d2cc7",
   "metadata": {
    "slideshow": {
     "slide_type": "slide"
    }
   },
   "source": [
    "# ReAct agent (ZERO_SHOT_REACT_DESCRIPTION) \n",
    "\n",
    "determines the goal directly from the questions without additional context. Here's how it works:\n",
    "\n",
    "The agent understands the questions using:\n",
    "\n",
    "Built-in prompt template: The ZERO_SHOT_REACT_DESCRIPTION agent uses a default prompt that instructs the LLM to:\n",
    "\n",
    "Analyze the question\n",
    "Reason about what information is needed\n",
    "Use available tools to find answers\n",
    "Formulate a response\n",
    "Tool knowledge: The agent has access to tools (defined in the tools parameter) - search and calculator.\n",
    "\n",
    "ReAct framework: The agent follows a \"Reasoning + Acting\" pattern where it:\n",
    "\n",
    "Thinks about what the question is asking\n",
    "Determines which tool to use\n",
    "Uses the tool to get information\n",
    "Continues reasoning until it reaches an answer\n",
    "The agent doesn't need explicit contextual guidance because the combination of the question itself, the available tools, and the LLM's capabilities allow it to formulate a plan to answer each insurance-related query."
   ]
  },
  {
   "cell_type": "code",
   "execution_count": 81,
   "id": "467773aa",
   "metadata": {},
   "outputs": [
    {
     "name": "stdout",
     "output_type": "stream",
     "text": [
      "Demo questions:\n",
      "- My work smartphone was stolen on a business trip. Is it covered, and what are the conditions?\n",
      "- If a laptop worth CHF 1,800 is accidentally damaged twice in a year under DeviceCare-Pro, what's the max total payout after any deductibles?\n",
      "- Does FleetAssist cover personal belongings inside a rental car?\n"
     ]
    }
   ],
   "source": [
    "# Build the agent (ReAct)\n",
    "agent = initialize_agent(tools=tools, llm=llm, agent=AgentType.ZERO_SHOT_REACT_DESCRIPTION,\n",
    "                         verbose=True, handle_parsing_errors=True)\n",
    "\n",
    "demo_questions = [\n",
    "    \"My work smartphone was stolen on a business trip. Is it covered, and what are the conditions?\",\n",
    "    \"If a laptop worth CHF 1,800 is accidentally damaged twice in a year under DeviceCare-Pro, what's the max total payout after any deductibles?\",\n",
    "    \"Does FleetAssist cover personal belongings inside a rental car?\"\n",
    "]\n",
    "print(\"Demo questions:\", *demo_questions, sep=\"\\n- \")\n"
   ]
  },
  {
   "cell_type": "code",
   "execution_count": 9,
   "id": "44e61ae6",
   "metadata": {},
   "outputs": [
    {
     "name": "stdout",
     "output_type": "stream",
     "text": [
      "\n",
      "\n",
      "\u001b[1m> Entering new AgentExecutor chain...\u001b[0m\n",
      "\u001b[32;1m\u001b[1;3mI need to find out if the theft of a work smartphone during a business trip is covered under any relevant policies and what the conditions might be. I'll search the policy corpus for information related to coverage for stolen work devices during business trips.  \n",
      "Action: search_policies  \n",
      "Action Input: \"stolen work smartphone business trip coverage\"  \u001b[0m\n",
      "Observation: \u001b[36;1m\u001b[1;3m{\"results\": [{\"id\": \"TravelPlus-2024\", \"snippet\": \"TravelPlus provides coverage for business travel including delayed flights, lost baggage, and emergency medical expenses up to CHF 10,000. Personal electronics are covered if they are lost due to theft, with a deductible of CHF 200. Pure misplacement is not covered.\"}, {\"id\": \"DeviceCare-Pro\", \"snippet\": \"DeviceCare-Pro covers accidental damage to smartphones and laptops used for work. Loss or theft is covered only when a police report is filed within 48 hours. Maximum payout CHF 1,500 per device, 2 incidents per policy year.\"}]}\u001b[0m\n",
      "Thought:\u001b[32;1m\u001b[1;3mI found two relevant policies regarding coverage for a stolen work smartphone during a business trip. \n",
      "\n",
      "1. **TravelPlus-2024**: This policy provides coverage for personal electronics lost due to theft, but there is a deductible of CHF 200. It does not cover misplacement.\n",
      "   \n",
      "2. **DeviceCare-Pro**: This policy covers loss or theft of smartphones if a police report is filed within 48 hours of the incident. The maximum payout is CHF 1,500 per device, with a limit of 2 incidents per policy year.\n",
      "\n",
      "Now I can summarize the conditions for coverage based on these policies.\n",
      "\n",
      "Final Answer: Yes, your work smartphone is covered if it was stolen during a business trip. Under the TravelPlus-2024 policy, there is a deductible of CHF 200 for theft. The DeviceCare-Pro policy requires a police report to be filed within 48 hours of the theft, with a maximum payout of CHF 1,500 per device and a limit of 2 incidents per policy year.\u001b[0m\n",
      "\n",
      "\u001b[1m> Finished chain.\u001b[0m\n"
     ]
    },
    {
     "data": {
      "text/plain": [
       "{'input': 'My work smartphone was stolen on a business trip. Is it covered, and what are the conditions?',\n",
       " 'output': 'Yes, your work smartphone is covered if it was stolen during a business trip. Under the TravelPlus-2024 policy, there is a deductible of CHF 200 for theft. The DeviceCare-Pro policy requires a police report to be filed within 48 hours of the theft, with a maximum payout of CHF 1,500 per device and a limit of 2 incidents per policy year.'}"
      ]
     },
     "execution_count": 9,
     "metadata": {},
     "output_type": "execute_result"
    }
   ],
   "source": [
    "agent.invoke(demo_questions[0])"
   ]
  },
  {
   "cell_type": "code",
   "execution_count": 10,
   "id": "3782036a",
   "metadata": {},
   "outputs": [
    {
     "name": "stdout",
     "output_type": "stream",
     "text": [
      "\n",
      "\n",
      "\u001b[1m> Entering new AgentExecutor chain...\u001b[0m\n",
      "\u001b[32;1m\u001b[1;3mTo determine the maximum total payout after any deductibles for a laptop worth CHF 1,800 that is accidentally damaged twice in a year under DeviceCare-Pro, I need to find the relevant policy details regarding coverage limits and deductibles for accidental damage. \n",
      "\n",
      "Action: search_policies\n",
      "Action Input: \"DeviceCare-Pro accidental damage coverage limits and deductibles\"\n",
      "\u001b[0m\n",
      "Observation: \u001b[36;1m\u001b[1;3m{\"results\": [{\"id\": \"DeviceCare-Pro\", \"snippet\": \"DeviceCare-Pro covers accidental damage to smartphones and laptops used for work. Loss or theft is covered only when a police report is filed within 48 hours. Maximum payout CHF 1,500 per device, 2 incidents per policy year.\"}, {\"id\": \"TravelPlus-2024\", \"snippet\": \"TravelPlus provides coverage for business travel including delayed flights, lost baggage, and emergency medical expenses up to CHF 10,000. Personal electronics are covered if they are lost due to theft, with a deductible of CHF 200. Pure misplacement is not covered.\"}, {\"id\": \"FleetAssist\", \"snippet\": \"FleetAssist covers rented vehicles during company travel. It excludes personal property inside the vehicle unless explicitly endorsed.\"}]}\u001b[0m\n",
      "Thought:\u001b[32;1m\u001b[1;3mThe policy for DeviceCare-Pro states that it covers accidental damage to laptops with a maximum payout of CHF 1,500 per device and allows for two incidents per policy year. Since the laptop is worth CHF 1,800, the maximum payout will be capped at CHF 1,500 for each incident. \n",
      "\n",
      "Now, I need to calculate the total payout for two incidents. \n",
      "\n",
      "Action: calculator\n",
      "Action Input: \"2 * 1500\"\u001b[0m\n",
      "Observation: \u001b[33;1m\u001b[1;3m3000\u001b[0m\n",
      "Thought:"
     ]
    },
    {
     "name": "stderr",
     "output_type": "stream",
     "text": [
      "/tmp/ipykernel_113865/1964599603.py:28: DeprecationWarning: ast.Num is deprecated and will be removed in Python 3.14; use ast.Constant instead\n",
      "  if isinstance(node, ast.Num): return node.n\n",
      "/tmp/ipykernel_113865/1964599603.py:28: DeprecationWarning: Attribute n is deprecated and will be removed in Python 3.14; use value instead\n",
      "  if isinstance(node, ast.Num): return node.n\n"
     ]
    },
    {
     "name": "stdout",
     "output_type": "stream",
     "text": [
      "\u001b[32;1m\u001b[1;3mThe maximum total payout for the two incidents of accidental damage is CHF 3,000. However, since the policy covers only up to CHF 1,500 per incident, the total payout for both incidents is CHF 3,000. \n",
      "\n",
      "Final Answer: CHF 3,000\u001b[0m\n",
      "\n",
      "\u001b[1m> Finished chain.\u001b[0m\n"
     ]
    },
    {
     "data": {
      "text/plain": [
       "{'input': \"If a laptop worth CHF 1,800 is accidentally damaged twice in a year under DeviceCare-Pro, what's the max total payout after any deductibles?\",\n",
       " 'output': 'CHF 3,000'}"
      ]
     },
     "execution_count": 10,
     "metadata": {},
     "output_type": "execute_result"
    }
   ],
   "source": [
    "agent.invoke(demo_questions[1])"
   ]
  },
  {
   "cell_type": "code",
   "execution_count": null,
   "id": "a7d68f70",
   "metadata": {},
   "outputs": [
    {
     "name": "stdout",
     "output_type": "stream",
     "text": [
      "\n",
      "\n",
      "\u001b[1m> Entering new AgentExecutor chain...\u001b[0m\n",
      "\u001b[32;1m\u001b[1;3mI need to check if there are any policies related to FleetAssist that mention coverage for personal belongings inside a rental car. This will help me determine if such coverage exists. \n",
      "Action: search_policies\n",
      "Action Input: \"FleetAssist personal belongings rental car coverage\"\u001b[0m\n",
      "Observation: \u001b[36;1m\u001b[1;3m{\"results\": [{\"id\": \"TravelPlus-2024\", \"snippet\": \"TravelPlus provides coverage for business travel including delayed flights, lost baggage, and emergency medical expenses up to CHF 10,000. Personal electronics are covered if they are lost due to theft, with a deductible of CHF 200. Pure misplacement is not covered.\"}, {\"id\": \"FleetAssist\", \"snippet\": \"FleetAssist covers rented vehicles during company travel. It excludes personal property inside the vehicle unless explicitly endorsed.\"}, {\"id\": \"DeviceCare-Pro\", \"snippet\": \"DeviceCare-Pro covers accidental damage to smartphones and laptops used for work. Loss or theft is covered only when a police report is filed within 48 hours. Maximum payout CHF 1,500 per device, 2 incidents per policy year.\"}]}\u001b[0m\n",
      "Thought:\u001b[32;1m\u001b[1;3mThe search results indicate that FleetAssist does not cover personal property inside the rental vehicle unless there is an explicit endorsement for such coverage. This means that personal belongings are generally not covered under the standard FleetAssist policy.\n",
      "\n",
      "Final Answer: No, FleetAssist does not cover personal belongings inside a rental car unless explicitly endorsed.\u001b[0m\n",
      "\n",
      "\u001b[1m> Finished chain.\u001b[0m\n"
     ]
    },
    {
     "data": {
      "text/plain": [
       "{'input': 'Does FleetAssist cover personal belongings inside a rental car?',\n",
       " 'output': 'No, FleetAssist does not cover personal belongings inside a rental car unless explicitly endorsed.'}"
      ]
     },
     "execution_count": 12,
     "metadata": {},
     "output_type": "execute_result"
    }
   ],
   "source": [
    "agent.invoke(demo_questions[2])"
   ]
  },
  {
   "cell_type": "markdown",
   "id": "2beb1b65",
   "metadata": {},
   "source": [
    "# Let's evaluate the questions:"
   ]
  },
  {
   "cell_type": "code",
   "execution_count": 11,
   "id": "3e3a4e14",
   "metadata": {},
   "outputs": [
    {
     "name": "stdout",
     "output_type": "stream",
     "text": [
      "\n",
      "\n",
      "\u001b[1m> Entering new AgentExecutor chain...\u001b[0m\n",
      "\u001b[32;1m\u001b[1;3mI need to find out if a stolen work smartphone is covered under a policy and what the specific conditions are for coverage. I'll search the policy corpus for relevant information regarding coverage for stolen work devices.  \n",
      "Action: search_policies  \n",
      "Action Input: \"stolen work smartphone coverage\"  \u001b[0m\n",
      "Observation: \u001b[36;1m\u001b[1;3m{\"results\": [{\"id\": \"DeviceCare-Pro\", \"snippet\": \"DeviceCare-Pro covers accidental damage to smartphones and laptops used for work. Loss or theft is covered only when a police report is filed within 48 hours. Maximum payout CHF 1,500 per device, 2 incidents per policy year.\"}, {\"id\": \"TravelPlus-2024\", \"snippet\": \"TravelPlus provides coverage for business travel including delayed flights, lost baggage, and emergency medical expenses up to CHF 10,000. Personal electronics are covered if they are lost due to theft, with a deductible of CHF 200. Pure misplacement is not covered.\"}]}\u001b[0m\n",
      "Thought:\u001b[32;1m\u001b[1;3mI found two relevant policies regarding coverage for a stolen work smartphone. The first policy, DeviceCare-Pro, covers loss or theft of smartphones used for work, but requires a police report to be filed within 48 hours. The maximum payout is CHF 1,500 per device, with a limit of two incidents per policy year. The second policy, TravelPlus-2024, covers personal electronics lost due to theft during business travel, but has a deductible of CHF 200. However, it does not cover misplacement.\n",
      "\n",
      "Final Answer: Yes, your stolen work smartphone is covered under the DeviceCare-Pro policy if a police report is filed within 48 hours, with a maximum payout of CHF 1,500. The TravelPlus-2024 policy also covers theft during business travel but has a CHF 200 deductible.\u001b[0m\n",
      "\n",
      "\u001b[1m> Finished chain.\u001b[0m\n",
      "\n",
      "\n",
      "\u001b[1m> Entering new AgentExecutor chain...\u001b[0m\n",
      "\u001b[32;1m\u001b[1;3mI need to find out if FleetAssist includes coverage for personal belongings inside a rental car. I'll search the policy details for any mention of personal belongings coverage.  \n",
      "Action: search_policies  \n",
      "Action Input: \"FleetAssist personal belongings coverage rental car\"  \u001b[0m\n",
      "Observation: \u001b[36;1m\u001b[1;3m{\"results\": [{\"id\": \"TravelPlus-2024\", \"snippet\": \"TravelPlus provides coverage for business travel including delayed flights, lost baggage, and emergency medical expenses up to CHF 10,000. Personal electronics are covered if they are lost due to theft, with a deductible of CHF 200. Pure misplacement is not covered.\"}, {\"id\": \"FleetAssist\", \"snippet\": \"FleetAssist covers rented vehicles during company travel. It excludes personal property inside the vehicle unless explicitly endorsed.\"}, {\"id\": \"DeviceCare-Pro\", \"snippet\": \"DeviceCare-Pro covers accidental damage to smartphones and laptops used for work. Loss or theft is covered only when a police report is filed within 48 hours. Maximum payout CHF 1,500 per device, 2 incidents per policy year.\"}]}\u001b[0m\n",
      "Thought:\u001b[32;1m\u001b[1;3mThe search results indicate that FleetAssist does not cover personal property inside the rental vehicle unless there is an explicit endorsement for such coverage. This means that personal belongings are generally not covered under the standard FleetAssist policy. \n",
      "\n",
      "Final Answer: No, FleetAssist does not cover personal belongings inside a rental car unless explicitly endorsed.\u001b[0m\n",
      "\n",
      "\u001b[1m> Finished chain.\u001b[0m\n",
      "\n",
      "[name=LangChain agent micro‑eval]\n",
      "                                            question  passed  \\\n",
      "0  My work smartphone was stolen on a business tr...    True   \n",
      "1  Does FleetAssist cover personal belongings ins...    True   \n",
      "\n",
      "                                              answer  \n",
      "0  Yes, your stolen work smartphone is covered un...  \n",
      "1  No, FleetAssist does not cover personal belong...  \n"
     ]
    },
    {
     "data": {
      "text/html": [
       "<div>\n",
       "<style scoped>\n",
       "    .dataframe tbody tr th:only-of-type {\n",
       "        vertical-align: middle;\n",
       "    }\n",
       "\n",
       "    .dataframe tbody tr th {\n",
       "        vertical-align: top;\n",
       "    }\n",
       "\n",
       "    .dataframe thead th {\n",
       "        text-align: right;\n",
       "    }\n",
       "</style>\n",
       "<table border=\"1\" class=\"dataframe\">\n",
       "  <thead>\n",
       "    <tr style=\"text-align: right;\">\n",
       "      <th></th>\n",
       "      <th>question</th>\n",
       "      <th>passed</th>\n",
       "      <th>answer</th>\n",
       "    </tr>\n",
       "  </thead>\n",
       "  <tbody>\n",
       "    <tr>\n",
       "      <th>0</th>\n",
       "      <td>My work smartphone was stolen on a business tr...</td>\n",
       "      <td>True</td>\n",
       "      <td>Yes, your stolen work smartphone is covered un...</td>\n",
       "    </tr>\n",
       "    <tr>\n",
       "      <th>1</th>\n",
       "      <td>Does FleetAssist cover personal belongings ins...</td>\n",
       "      <td>True</td>\n",
       "      <td>No, FleetAssist does not cover personal belong...</td>\n",
       "    </tr>\n",
       "  </tbody>\n",
       "</table>\n",
       "</div>"
      ],
      "text/plain": [
       "                                            question  passed  \\\n",
       "0  My work smartphone was stolen on a business tr...    True   \n",
       "1  Does FleetAssist cover personal belongings ins...    True   \n",
       "\n",
       "                                              answer  \n",
       "0  Yes, your stolen work smartphone is covered un...  \n",
       "1  No, FleetAssist does not cover personal belong...  "
      ]
     },
     "execution_count": 11,
     "metadata": {},
     "output_type": "execute_result"
    }
   ],
   "source": [
    "# Micro-evaluator\n",
    "import pandas as pd\n",
    "try:\n",
    "    from caas_jupyter_tools import display_dataframe_to_user\n",
    "except Exception:\n",
    "    def display_dataframe_to_user(name, df):\n",
    "        print(f\"\\n[name={name}]\\n{df}\")\n",
    "\n",
    "def contains_all(text: str, phrases: list[str]) -> bool:\n",
    "    low = text.lower()\n",
    "    return all(p.lower() in low for p in phrases)\n",
    "\n",
    "tests = [\n",
    "    {\"q\": demo_questions[0], \"must\": [\"covered\", \"theft\", \"police\", \"48\"]},\n",
    "    {\"q\": demo_questions[2], \"must\": [\"not\", \"unless\", \"endorsed\"]},\n",
    "]\n",
    "rows = []\n",
    "for t in tests:\n",
    "    out = agent.invoke(t[\"q\"])\n",
    "    ans = out[\"output\"] if isinstance(out, dict) and \"output\" in out else str(out)\n",
    "    rows.append({\"question\": t[\"q\"], \"passed\": contains_all(ans, t[\"must\"]), \"answer\": ans})\n",
    "\n",
    "df = pd.DataFrame(rows)\n",
    "display_dataframe_to_user(\"LangChain agent micro‑eval\", df)\n",
    "df\n"
   ]
  },
  {
   "cell_type": "markdown",
   "id": "441ab341",
   "metadata": {},
   "source": [
    "### Call your LangFlow flow (optional)"
   ]
  },
  {
   "cell_type": "code",
   "execution_count": 4,
   "id": "6a578688",
   "metadata": {},
   "outputs": [
    {
     "name": "stdout",
     "output_type": "stream",
     "text": [
      "Hello! It's fantastic to see your enthusiasm for exploring the integration between LangChain and LangFlow! This combination opens up a world of possibilities for building powerful applications that leverage language models and workflows. Here are some exciting things you can do with this integration:\n",
      "\n",
      "1. **Streamlined Workflow Creation**: LangFlow provides a visual interface to design and manage workflows, making it easier to create complex applications without getting lost in code. You can drag and drop components to build your language processing pipelines.\n",
      "\n",
      "2. **Custom Language Models**: With LangChain, you can easily integrate various language models, including OpenAI's GPT, Hugging Face models, or even your own fine-tuned models. This allows you to tailor the language processing capabilities to your specific needs.\n",
      "\n",
      "3. **Data Processing Pipelines**: You can create workflows that preprocess data, perform language tasks (like summarization, translation, or sentiment analysis), and then post-process the results. This is particularly useful for applications like chatbots, content generation, or data analysis.\n",
      "\n",
      "4. **Interactive Applications**: By combining LangChain's capabilities with LangFlow's visual tools, you can build interactive applications that respond to user inputs in real-time. This could be anything from a conversational agent to a dynamic content generator.\n",
      "\n",
      "5. **Experimentation and Prototyping**: The integration allows for rapid prototyping. You can quickly test different models and configurations in LangFlow, iterate on your designs, and see how changes affect performance without extensive coding.\n",
      "\n",
      "6. **Integration with External APIs**: You can connect your workflows to external APIs, enabling your applications to pull in data from various sources, enrich the language processing tasks, or even trigger actions based on the output.\n",
      "\n",
      "7. **Deployment and Scalability**: Once you've built your application, you can leverage LangChain's deployment capabilities to scale your solution, ensuring it can handle real-world usage effectively.\n",
      "\n",
      "8. **Community and Resources**: Both LangChain and LangFlow have active communities and resources. You can find tutorials, examples, and support to help you along the way as you build your project.\n",
      "\n",
      "To get started, I recommend defining a clear use case for your application. What problem do you want to solve? Once you have that in mind, dive into LangFlow to sketch out your workflow and then integrate LangChain components to bring your vision to life. Happy building! If you have any specific ideas or questions, feel free to ask!\n"
     ]
    }
   ],
   "source": [
    "import requests, json\n",
    "def run_langflow(flow_id: str, user_input: str, base_url: str = \"http://127.0.0.1:7860/api/v1\"):\n",
    "    url = f\"{base_url}/run/{flow_id}\"\n",
    "    payload = {\"input_value\": user_input, \"output_type\": \"chat\", \"input_type\": \"chat\"}\n",
    "    headers = {\n",
    "        \"x-api-key\": LANGFLOW_API_KEY  # Add your LangFlow API key here\n",
    "    }\n",
    "    r = requests.post(url, json=payload, headers=headers, timeout=60)\n",
    "    r.raise_for_status()\n",
    "    data = r.json()\n",
    "    try:\n",
    "        return data[\"outputs\"][0][\"outputs\"][0][\"results\"][\"message\"][\"text\"]\n",
    "    except Exception:\n",
    "        return json.dumps(data, indent=2)\n",
    "\n",
    "# Example:\n",
    "print(run_langflow(\"55e5414b-966a-48dc-8bc4-bfb2e3168c72\", \"Hello from the notebook! Tell me what I can do with this integration between LangChain and LangFlow\"))\n"
   ]
  },
  {
   "cell_type": "markdown",
   "id": "48f72de0",
   "metadata": {},
   "source": [
    "## LangGraph — stateful agent graphs\n",
    "- **State schema** → **nodes** → **edges**\n",
    "- Optional **checkpointer** (threaded memory)\n",
    "- Below: a minimal retrieve→answer pipeline using our existing `llm` + retriever.\n"
   ]
  },
  {
   "cell_type": "code",
   "execution_count": 82,
   "id": "4eda4010",
   "metadata": {},
   "outputs": [
    {
     "name": "stdout",
     "output_type": "stream",
     "text": [
      "No, FleetAssist does not cover personal property inside the vehicle unless explicitly endorsed.\n"
     ]
    }
   ],
   "source": [
    "from typing import TypedDict\n",
    "from langgraph.graph import StateGraph, END, START\n",
    "from langgraph.checkpoint.memory import MemorySaver\n",
    "\n",
    "checkpointer = MemorySaver()\n",
    "\n",
    "# --- STATE MACHINE PART 1: THE STATE SCHEMA ---\n",
    "# This TypedDict defines the structure of your state. \n",
    "# It's the memory that is passed between all nodes.\n",
    "class AgentState(TypedDict, total=False):\n",
    "    question: str\n",
    "    context: str\n",
    "    answer: str\n",
    "\n",
    "# --- STATE MACHINE PART 2: THE NODES ---\n",
    "# Each node is a function that operates on the state. It receives the current\n",
    "# state and returns a dictionary to update it.\n",
    "def retrieve_node(state: AgentState) -> AgentState:\n",
    "    import json as _json\n",
    "    raw = search_policies(state.get(\"question\", \"\"))\n",
    "    data = _json.loads(raw)\n",
    "    snippets = [r.get(\"snippet\",\"\") for r in data.get(\"results\", [])]\n",
    "    return {\"context\": \"\\n\\n\".join(snippets) if snippets else \"No policy hits.\"}\n",
    "\n",
    "def answer_node(state: AgentState) -> AgentState:\n",
    "    q = state.get(\"question\",\"\"); cx = state.get(\"context\",\"\")\n",
    "    prompt = (\"Use ONLY the policy snippets to answer. If insufficient, say so.\\n\\n\"\n",
    "              f\"Policy snippets:\\n{cx}\\n\\nQuestion: {q}\\n\\nAnswer:\")\n",
    "    out = llm.invoke(prompt)\n",
    "    text = getattr(out, \"content\", str(out))\n",
    "    return {\"answer\": text}\n",
    "\n",
    "# --- STATE MACHINE PART 3: THE GRAPH DEFINITION (EDGES) ---\n",
    "# Here you instantiate the state machine with your schema.\n",
    "graph = StateGraph(AgentState)\n",
    "graph.add_node(\"retrieve\", retrieve_node)\n",
    "graph.add_node(\"answer\", answer_node)\n",
    "graph.set_entry_point(\"retrieve\")\n",
    "# This edge defines a transition: after 'retrieve' always go to 'answer'.\n",
    "graph.add_edge(\"retrieve\", \"answer\")\n",
    "# After 'answer', the machine stops.\n",
    "graph.add_edge(\"answer\", END)\n",
    "app = graph.compile(checkpointer=checkpointer) if checkpointer else graph.compile()\n",
    "\n",
    "print(app.invoke(\n",
    "    {\"question\": \"Does FleetAssist cover belongings in a rental car?\"}, \n",
    "    config={\"configurable\": {\"thread_id\": \"1\"}}\n",
    ").get(\"answer\"))\n"
   ]
  },
  {
   "cell_type": "code",
   "execution_count": 60,
   "id": "6f684e52",
   "metadata": {},
   "outputs": [
    {
     "name": "stderr",
     "output_type": "stream",
     "text": [
      "/tmp/ipykernel_575846/1964599603.py:28: DeprecationWarning: ast.Num is deprecated and will be removed in Python 3.14; use ast.Constant instead\n",
      "  if isinstance(node, ast.Num): return node.n\n",
      "/tmp/ipykernel_575846/1964599603.py:28: DeprecationWarning: Attribute n is deprecated and will be removed in Python 3.14; use value instead\n",
      "  if isinstance(node, ast.Num): return node.n\n"
     ]
    },
    {
     "name": "stdout",
     "output_type": "stream",
     "text": [
      "Insufficient information.\n"
     ]
    }
   ],
   "source": [
    "# Optional: add a simple router for calc-like questions\n",
    "import re\n",
    "\n",
    "# --- STATE MACHINE: A CONDITIONAL EDGE ---\n",
    "# This function inspects the state to decide which path to take.\n",
    "# This is the \"logic\" of the state machine.\n",
    "def route(state: AgentState) -> str:\n",
    "    q = state.get(\"question\",\"\")\n",
    "    return \"calc\" if re.search(r\"\\bCHF\\b|\\d+\\s*[+\\-*/]\", q) else \"retrieve\"\n",
    "\n",
    "def calc_node(state: AgentState) -> AgentState:\n",
    "    q = state.get(\"question\",\"\")\n",
    "    m = re.search(r\"(\\d+[\\d\\s+\\-*/().]*)\", q)\n",
    "    expr = m.group(1) if m else None\n",
    "    out = calculator(expr) if expr else \"Error: no expression found\"\n",
    "    return {\"context\": f\"Calculated: {expr} = {out}\", \"answer\": str(out)}\n",
    "\n",
    "g2 = StateGraph(AgentState)\n",
    "g2.add_node(\"retrieve\", retrieve_node)\n",
    "g2.add_node(\"calc\", calc_node)\n",
    "g2.add_node(\"answer\", answer_node)\n",
    "# --- STATE MACHINE: DEFINING DYNAMIC TRANSITIONS ---\n",
    "# This tells the machine to call the 'route' function at the START.\n",
    "# Based on the string returned by 'route', it will transition to either\n",
    "# the 'retrieve' node or the 'calc' node.\n",
    "g2.add_conditional_edges(START, route, {\"retrieve\": \"retrieve\", \"calc\": \"calc\"})\n",
    "g2.add_edge(\"retrieve\", \"answer\")\n",
    "g2.add_edge(\"calc\", \"answer\")\n",
    "g2.add_edge(\"answer\", END)\n",
    "app_routed = g2.compile()\n",
    "\n",
    "print(app_routed.invoke({\"question\": \"If a laptop worth CHF 1,800 is damaged twice, what's the total?\"}).get(\"answer\"))\n"
   ]
  },
  {
   "cell_type": "code",
   "execution_count": 89,
   "id": "9ab8a6db",
   "metadata": {},
   "outputs": [],
   "source": [
    "# Optional: add a human-in-the-loop for review\n",
    "from typing import Literal\n",
    "\n",
    "# --- STATE MACHINE: EXTENDING THE STATE SCHEMA ---\n",
    "# We add 'human_feedback' to the state to handle the new logic.\n",
    "class AgentStateWithHuman(AgentState):\n",
    "    human_feedback: str | None\n",
    "\n",
    "def human_review_node(state: AgentStateWithHuman) -> dict:\n",
    "    # This node is a placeholder for the interruption.\n",
    "    # The graph will pause here, and the user can provide feedback.\n",
    "    return {}\n",
    "\n",
    "# --- STATE MACHINE: A CYCLICAL CONDITIONAL EDGE ---\n",
    "# This router function creates a loop. By inspecting the state for 'human_feedback',\n",
    "# it can decide to either end the process or go back to the 'retrieve' node.\n",
    "def route_feedback(state: AgentStateWithHuman) -> Literal[\"retrieve\", \"end\"]:\n",
    "    # Check for human feedback. If \"reject\", go back to retrieve. Otherwise, end.\n",
    "    if state.get(\"human_feedback\", \"\").lower() == \"reject\":\n",
    "        return \"retrieve\"\n",
    "    return \"end\"\n",
    "\n",
    "g3 = StateGraph(AgentStateWithHuman)\n",
    "g3.add_node(\"retrieve\", retrieve_node)\n",
    "g3.add_node(\"calc\", calc_node)\n",
    "g3.add_node(\"answer\", answer_node)\n",
    "g3.add_node(\"human_review\", human_review_node)\n",
    "\n",
    "g3.add_conditional_edges(START, route, {\"retrieve\": \"retrieve\", \"calc\": \"calc\"})\n",
    "g3.add_edge(\"retrieve\", \"answer\")\n",
    "g3.add_edge(\"calc\", \"answer\")\n",
    "g3.add_edge(\"answer\", \"human_review\")\n",
    "# --- STATE MACHINE: DEFINING THE LOOP ---\n",
    "# After the 'human_review' node, call 'route_feedback' to decide the next step.\n",
    "# This is where the machine can either loop back to 'retrieve' or proceed to 'END'.\n",
    "g3.add_conditional_edges(\"human_review\", route_feedback, {\"retrieve\": \"retrieve\", \"end\": END})\n",
    "\n",
    "# Compile the graph, interrupting before the human_review node\n",
    "# app_human = g3.compile(interrupt_before=[\"human_review\"])\n",
    "\n",
    "# The 'interrupt_before' argument tells the state machine to pause at a specific point.\n",
    "# The 'checkpointer' saves the state when it pauses.\n",
    "app_human = g3.compile(checkpointer=checkpointer, interrupt_before=[\"human_review\"])\n",
    "\n",
    "# --- How to run this graph ---\n",
    "# 1. Start the run\n",
    "# initial_state = {\"question\": \"Does FleetAssist cover belongings in a rental car?\"}\n",
    "# for step in app_human.stream(initial_state):\n",
    "#     print(step)\n",
    "\n",
    "# 2. The graph will pause at the 'human_review' step.\n",
    "#    Inspect the answer, then continue the run with feedback.\n",
    "# approved_state = app_human.get_state(step['__end__']) # Get the state of the paused run\n",
    "# next_step = app_human.invoke(None, approved_state) # Continue with \"approve\"\n",
    "# print(next_step)\n",
    "\n",
    "# To reject:\n",
    "# rejected_state = app_human.get_state(step['__end__'])\n",
    "# rejected_state.values['human_feedback'] = 'reject'\n",
    "# next_step = app_human.invoke(None, rejected_state) # Continue with \"reject\"\n",
    "# print(next_step)"
   ]
  },
  {
   "cell_type": "code",
   "execution_count": 90,
   "id": "61cebfae",
   "metadata": {},
   "outputs": [
    {
     "name": "stdout",
     "output_type": "stream",
     "text": [
      "{'retrieve': {'context': 'TravelPlus provides coverage for business travel including delayed flights, lost baggage, and emergency medical expenses up to CHF 10,000. Personal electronics are covered if they are lost due to theft, with a deductible of CHF 200. Pure misplacement is not covered.\\n\\nDeviceCare-Pro covers accidental damage to smartphones and laptops used for work. Loss or theft is covered only when a police report is filed within 48 hours. Maximum payout CHF 1,500 per device, 2 incidents per policy year.\\n\\nFleetAssist covers rented vehicles during company travel. It excludes personal property inside the vehicle unless explicitly endorsed.'}}\n",
      "{'answer': {'answer': 'No, FleetAssist does not cover personal property inside the vehicle unless explicitly endorsed.'}}\n",
      "{'__interrupt__': ()}\n",
      "Current state values: {'question': 'Does FleetAssist cover belongings in a rentat car?', 'context': 'TravelPlus provides coverage for business travel including delayed flights, lost baggage, and emergency medical expenses up to CHF 10,000. Personal electronics are covered if they are lost due to theft, with a deductible of CHF 200. Pure misplacement is not covered.\\n\\nDeviceCare-Pro covers accidental damage to smartphones and laptops used for work. Loss or theft is covered only when a police report is filed within 48 hours. Maximum payout CHF 1,500 per device, 2 incidents per policy year.\\n\\nFleetAssist covers rented vehicles during company travel. It excludes personal property inside the vehicle unless explicitly endorsed.', 'answer': 'No, FleetAssist does not cover personal property inside the vehicle unless explicitly endorsed.'}\n",
      "\n",
      "Graph is confirmed to be in a paused state, waiting to execute 'human_review'.\n"
     ]
    }
   ],
   "source": [
    "# initial_state = {\"question\": \"Does FleetAssist cover belongings in a FLYING car?\"}\n",
    "# for step in app_human.stream(initial_state):\n",
    "#     print(step)\n",
    "\n",
    "import uuid\n",
    "config = {\"configurable\": {\"thread_id\": str(uuid.uuid4())}}\n",
    "initial_state = {\"question\": \"Does FleetAssist cover belongings in a rentat car?\"}\n",
    "for step in app_human.stream(initial_state, config=config):\n",
    "    print(step)\n",
    "\n",
    "# After the stream has paused, you can inspect the current state\n",
    "paused_state = app_human.get_state(config)\n",
    "print(\"Current state values:\", paused_state.values)\n",
    "\n",
    "# To confirm it's paused, check the 'next' step in the checkpoint\n",
    "if paused_state.next == ('human_review',):\n",
    "    print(\"\\nGraph is confirmed to be in a paused state, waiting to execute 'human_review'.\")\n",
    "else:\n",
    "    print(f\"\\nGraph is not paused at the expected step. Next step: {paused_state.next}\")"
   ]
  },
  {
   "cell_type": "code",
   "execution_count": 84,
   "id": "bd5ee04b",
   "metadata": {},
   "outputs": [
    {
     "name": "stdout",
     "output_type": "stream",
     "text": [
      "Accepting the answer and resuming. You should see 'retrieve' and 'answer' steps, then we'll advance past the human_review interrupt to END:\n",
      "{'retrieve': {'context': 'No policy hits.'}}\n",
      "{'answer': {'answer': 'Insufficient information.'}}\n",
      "{'__interrupt__': ()}\n",
      "Final resume result: {'context': 'No policy hits.', 'answer': 'Insufficient information.', 'human_feedback': 'accept'}\n",
      "\n",
      "Graph reached END successfully.\n"
     ]
    }
   ],
   "source": [
    "# Accept the answer and fully end the run\n",
    "# next_step = app_human.invoke({}, config)\n",
    "print(\"Accepting the answer and resuming. You should see 'retrieve' and 'answer' steps, then we'll advance past the human_review interrupt to END:\")\n",
    "for step in app_human.stream({\"human_feedback\": \"accept\"}, config):\n",
    "    print(step)\n",
    "\n",
    "# The stream above interrupts before 'human_review' again (by design).\n",
    "# To actually execute 'human_review' and route to END, resume using a non-interrupting app compiled with the same checkpointer.\n",
    "app_human_no_interrupt = g3.compile(checkpointer=checkpointer)\n",
    "final_result = app_human_no_interrupt.invoke({}, config)\n",
    "print(\"Final resume result:\", final_result)\n",
    "\n",
    "# Verify we've reached END: when finished, there should be no 'next' step.\n",
    "current_state = app_human_no_interrupt.get_state(config)\n",
    "if not getattr(current_state, \"next\", None):\n",
    "    print(\"\\nGraph reached END successfully.\")\n",
    "else:\n",
    "    print(f\"\\nGraph is not at END. Next step: {current_state.next}\")"
   ]
  },
  {
   "cell_type": "code",
   "execution_count": 87,
   "id": "ca1c9224",
   "metadata": {},
   "outputs": [],
   "source": [
    "# Helper to resume a paused run and drive it to END\n",
    "\n",
    "def resume_to_end(app_interrupting, graph, checkpointer, config, human_feedback: str | None = None):\n",
    "    \"\"\"\n",
    "    Resume a graph that was compiled with interrupts and drive it to END using the same\n",
    "    checkpointer + config (thread_id). If a human_feedback value is provided, it will be\n",
    "    included in the resume payload to influence routing at 'human_review'.\n",
    "\n",
    "    Returns a small summary dict with keys: result, at_end (bool), next (tuple|None), state (values).\n",
    "    \"\"\"\n",
    "    # Compile a non-interrupting version of the same graph with the same checkpointer\n",
    "    app_no_interrupt = graph.compile(checkpointer=checkpointer)\n",
    "\n",
    "    # Build a payload only if we have a human_feedback update to apply\n",
    "    payload = {\"human_feedback\": human_feedback} if human_feedback is not None else {}\n",
    "\n",
    "    # Invoke once to proceed past any paused step (e.g., 'human_review') and continue to END\n",
    "    result = app_no_interrupt.invoke(payload, config)\n",
    "\n",
    "    # Inspect current state to confirm END\n",
    "    state_snapshot = app_no_interrupt.get_state(config)\n",
    "    next_step = getattr(state_snapshot, \"next\", None)\n",
    "    at_end = not next_step\n",
    "\n",
    "    return {\n",
    "        \"result\": result,\n",
    "        \"at_end\": at_end,\n",
    "        \"next\": next_step,\n",
    "        \"state\": state_snapshot.values,\n",
    "    }"
   ]
  },
  {
   "cell_type": "code",
   "execution_count": 88,
   "id": "84db7420",
   "metadata": {},
   "outputs": [
    {
     "name": "stdout",
     "output_type": "stream",
     "text": [
      "Streaming finalization steps (no interrupt):\n",
      "{'retrieve': {'context': 'TravelPlus provides coverage for business travel including delayed flights, lost baggage, and emergency medical expenses up to CHF 10,000. Personal electronics are covered if they are lost due to theft, with a deductible of CHF 200. Pure misplacement is not covered.\\n\\nDeviceCare-Pro covers accidental damage to smartphones and laptops used for work. Loss or theft is covered only when a police report is filed within 48 hours. Maximum payout CHF 1,500 per device, 2 incidents per policy year.\\n\\nFleetAssist covers rented vehicles during company travel. It excludes personal property inside the vehicle unless explicitly endorsed.'}}\n",
      "{'answer': {'answer': 'No, FleetAssist does not cover personal property inside the rented vehicle unless explicitly endorsed.'}}\n",
      "{'human_review': None}\n",
      "END reached? Yes\n"
     ]
    }
   ],
   "source": [
    "# Optional: stream finalization without interrupts (for visualization)\n",
    "# Use this after you've accepted to see the final steps.\n",
    "try:\n",
    "    app_human_no_interrupt  # already compiled earlier?\n",
    "except NameError:\n",
    "    app_human_no_interrupt = g3.compile(checkpointer=checkpointer)\n",
    "\n",
    "# Increase recursion limit to avoid premature stop on long traces\n",
    "config_stream = dict(config)\n",
    "config_stream[\"recursion_limit\"] = 100\n",
    "\n",
    "print(\"Streaming finalization steps (no interrupt):\")\n",
    "for step in app_human_no_interrupt.stream({}, config_stream):\n",
    "    print(step)\n",
    "\n",
    "state = app_human_no_interrupt.get_state(config_stream)\n",
    "print(\"END reached?\", \"Yes\" if not getattr(state, \"next\", None) else f\"No, next={state.next}\")"
   ]
  },
  {
   "cell_type": "code",
   "execution_count": 91,
   "id": "045835ff",
   "metadata": {},
   "outputs": [
    {
     "name": "stdout",
     "output_type": "stream",
     "text": [
      "Rejecting and re-running the graph. You should see 'retrieve' and 'answer' steps below, then a pause at 'human_review':\n",
      "{'retrieve': {'context': 'TravelPlus provides coverage for business travel including delayed flights, lost baggage, and emergency medical expenses up to CHF 10,000. Personal electronics are covered if they are lost due to theft, with a deductible of CHF 200. Pure misplacement is not covered.\\n\\nDeviceCare-Pro covers accidental damage to smartphones and laptops used for work. Loss or theft is covered only when a police report is filed within 48 hours. Maximum payout CHF 1,500 per device, 2 incidents per policy year.\\n\\nFleetAssist covers rented vehicles during company travel. It excludes personal property inside the vehicle unless explicitly endorsed.'}}\n",
      "{'answer': {'answer': 'No, FleetAssist does not cover personal property inside the rented vehicle unless explicitly endorsed.'}}\n",
      "{'__interrupt__': ()}\n",
      "\n",
      "Graph is confirmed to be in a paused state, waiting to execute 'human_review'.\n"
     ]
    }
   ],
   "source": [
    "# Reject and continue (do NOT end)\n",
    "rejection_payload = {\"human_feedback\": \"reject\"}\n",
    "print(\"Rejecting and re-running the graph. You should see 'retrieve' and 'answer' steps below, then a pause at 'human_review':\")\n",
    "for step in app_human.stream(rejection_payload, config):\n",
    "    print(step)\n",
    "\n",
    "# Confirm it's paused at 'human_review' again\n",
    "current_state_after_rejection = app_human.get_state(config)\n",
    "if current_state_after_rejection.next == ('human_review',):\n",
    "    print(\"\\nGraph is confirmed to be in a paused state, waiting to execute 'human_review'.\")\n",
    "else:\n",
    "    print(f\"\\nGraph is not paused at the expected step. Next step: {current_state_after_rejection.next}\")\n",
    "\n",
    "# NOTE: The run remains paused. You can:\n",
    "# - Provide new feedback (e.g., reject again) to further iterate, OR\n",
    "# - Switch to acceptance later to finish, e.g.: resume_to_end(app_human, g3, checkpointer, config, human_feedback='accept')"
   ]
  },
  {
   "cell_type": "markdown",
   "id": "7f3f5320",
   "metadata": {},
   "source": [
    "### Diagram of the Human‑in‑the‑loop Routed Agent\n",
    "\n",
    "This diagram reflects the latest graph (g3) with routing (calc vs retrieve), answering, a human_review pause, and feedback-based looping.\n",
    "\n",
    "```mermaid\n",
    "graph LR\n",
    "    A[START] --> B{route question}\n",
    "    B -->|Contains math/CHF| C[calc_node]\n",
    "    B -->|Otherwise| D[retrieve_node]\n",
    "    C --> E[answer_node]\n",
    "    D --> E\n",
    "    E --> H[human_review]\n",
    "    H --> I{route_feedback}\n",
    "    I -->|reject| D\n",
    "    I -->|accept| F[END]\n",
    "\n",
    "    %% Styling (optional)\n",
    "    classDef calc fill:#f9f,stroke:#333,stroke-width:2px,color:#000\n",
    "    classDef retv fill:#ccf,stroke:#333,stroke-width:2px,color:#000\n",
    "    classDef ans  fill:#cfc,stroke:#333,stroke-width:2px,color:#000\n",
    "    classDef human fill:#ffc,stroke:#333,stroke-width:2px,color:#000\n",
    "\n",
    "    class C calc\n",
    "    class D retv\n",
    "    class E ans\n",
    "    class H human\n",
    "```\n",
    "\n",
    "Notes:\n",
    "- The app is compiled with `interrupt_before=[\"human_review\"]`, so runs pause at `human_review`.\n",
    "- On `reject`, `route_feedback` loops back to `retrieve_node` (you’ll see `retrieve` → `answer` → pause again).\n",
    "- On `accept`, the run proceeds to `END` (use the non‑interrupting compiled app or the helper to finalize).\n"
   ]
  },
  {
   "cell_type": "markdown",
   "id": "8d828b5d",
   "metadata": {},
   "source": [
    "## Closing\n",
    "Agents are **tools-first** systems. Ship‑ready means:\n",
    "- Versioned graphs\n",
    "- Safe MCP/allow‑listed tools\n",
    "- Eval + observability\n",
    "\n",
    "**Thanks!**"
   ]
  }
 ],
 "metadata": {
  "kernelspec": {
   "display_name": ".venv",
   "language": "python",
   "name": "python3"
  },
  "language_info": {
   "codemirror_mode": {
    "name": "ipython",
    "version": 3
   },
   "file_extension": ".py",
   "mimetype": "text/x-python",
   "name": "python",
   "nbconvert_exporter": "python",
   "pygments_lexer": "ipython3",
   "version": "3.12.3"
  }
 },
 "nbformat": 4,
 "nbformat_minor": 5
}
