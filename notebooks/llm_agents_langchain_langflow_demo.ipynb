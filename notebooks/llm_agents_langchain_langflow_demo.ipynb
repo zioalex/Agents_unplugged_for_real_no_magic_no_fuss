{
 "cells": [
  {
   "cell_type": "markdown",
   "id": "d1f32d83",
   "metadata": {},
   "source": [
    "# Agents Unplugged - for Real, no magic, no fuss\n",
    "## LangChain, LangFlow and LangGraph"
   ]
  },
  {
   "cell_type": "code",
   "execution_count": 3,
   "id": "5a2ba8ce",
   "metadata": {},
   "outputs": [],
   "source": [
    "import json, os\n",
    "file_name = 'config.json'  #paste path here\n",
    "with open(file_name, 'r') as file:\n",
    "    config = json.load(file)\n",
    "    API_KEY = config.get(\"API_KEY\") # Loading the API Key\n",
    "    OPENAI_API_BASE = config.get(\"OPENAI_API_BASE\") # Loading the API Base Url"
   ]
  },
  {
   "cell_type": "code",
   "execution_count": 4,
   "id": "ee68a048",
   "metadata": {},
   "outputs": [],
   "source": [
    "# Importing the GPT-4 LLM and setting it up\n",
    "os.environ['OPENAI_API_KEY']= API_KEY\n",
    "os.environ[\"OPENAI_API_BASE\"] = OPENAI_API_BASE ;"
   ]
  },
  {
   "cell_type": "code",
   "execution_count": 5,
   "id": "ea93416a",
   "metadata": {},
   "outputs": [
    {
     "name": "stderr",
     "output_type": "stream",
     "text": [
      "/home/asurace/github/Agents unplugged_ real_no_magic_no_fuss/.venv/lib/python3.12/site-packages/tqdm/auto.py:21: TqdmWarning: IProgress not found. Please update jupyter and ipywidgets. See https://ipywidgets.readthedocs.io/en/stable/user_install.html\n",
      "  from .autonotebook import tqdm as notebook_tqdm\n"
     ]
    },
    {
     "data": {
      "text/plain": [
       "AIMessage(content=\"I'm just a program, so I don't have feelings, but I'm here and ready to help you! How can I assist you today?\", additional_kwargs={'refusal': None}, response_metadata={'token_usage': {'completion_tokens': 27, 'prompt_tokens': 13, 'total_tokens': 40, 'completion_tokens_details': {'accepted_prediction_tokens': 0, 'audio_tokens': 0, 'reasoning_tokens': 0, 'rejected_prediction_tokens': 0}, 'prompt_tokens_details': {'audio_tokens': 0, 'cached_tokens': 0}}, 'model_name': 'gpt-4o-mini-2024-07-18', 'system_fingerprint': 'fp_560af6e559', 'id': 'chatcmpl-CK4ZYsG4GvyGSOWLfDJecSvDF7vSn', 'service_tier': 'default', 'finish_reason': 'stop', 'logprobs': None}, id='run--af7deb07-fae0-41d8-80f0-bd4fcaabdcf4-0', usage_metadata={'input_tokens': 13, 'output_tokens': 27, 'total_tokens': 40, 'input_token_details': {'audio': 0, 'cache_read': 0}, 'output_token_details': {'audio': 0, 'reasoning': 0}})"
      ]
     },
     "execution_count": 5,
     "metadata": {},
     "output_type": "execute_result"
    }
   ],
   "source": [
    "# Backend config — set ONE line\n",
    "BACKEND = \"OPENAI\" # \"OLLAMA\"  # or \"OPENAI\"\n",
    "MODEL_OPENAI = \"gpt-4o-mini\"\n",
    "MODEL_OLLAMA = \"llama3.1:8b\"  # ensure it's pulled if using Ollama\n",
    "\n",
    "import os, json, re, math, requests, ast, operator\n",
    "from typing import List, Dict, Any\n",
    "\n",
    "from langchain.tools import Tool\n",
    "from langchain.agents import initialize_agent, AgentType\n",
    "\n",
    "try:\n",
    "    if BACKEND == \"OPENAI\":\n",
    "        from langchain_openai import ChatOpenAI\n",
    "        llm = ChatOpenAI(model=MODEL_OPENAI, temperature=0.2)\n",
    "    else:\n",
    "        try:\n",
    "            from langchain_community.chat_models import ChatOllama\n",
    "        except Exception:\n",
    "            from langchain_community.llms import Ollama as ChatOllama\n",
    "        llm = ChatOllama(model=MODEL_OLLAMA)\n",
    "except Exception as e:\n",
    "    raise RuntimeError(f\"Could not initialize LLM for BACKEND={BACKEND}: {e}\")\n",
    "\n",
    "llm.invoke(\"How are you doing today?\")  # test if LLM is working"
   ]
  },
  {
   "cell_type": "code",
   "execution_count": 7,
   "id": "3e7d40f6",
   "metadata": {},
   "outputs": [],
   "source": [
    "# Tiny policy corpus + tools\n",
    "POLICIES = [\n",
    "    {\"id\": \"TravelPlus-2024\", \"text\": \"TravelPlus provides coverage for business travel including delayed flights, lost baggage, and emergency medical expenses up to CHF 10,000. Personal electronics are covered if they are lost due to theft, with a deductible of CHF 200. Pure misplacement is not covered.\"},\n",
    "    {\"id\": \"DeviceCare-Pro\", \"text\": \"DeviceCare-Pro covers accidental damage to smartphones and laptops used for work. Loss or theft is covered only when a police report is filed within 48 hours. Maximum payout CHF 1,500 per device, 2 incidents per policy year.\"},\n",
    "    {\"id\": \"FleetAssist\", \"text\": \"FleetAssist covers rented vehicles during company travel. It excludes personal property inside the vehicle unless explicitly endorsed.\"},\n",
    "]\n",
    "\n",
    "def simple_search(query: str, top_k: int = 3):\n",
    "    terms = [t.lower() for t in re.findall(r\"\\w+\", query)]\n",
    "    scored = []\n",
    "    for doc in POLICIES:\n",
    "        text = doc[\"text\"].lower()\n",
    "        score = sum(text.count(t) for t in set(terms))\n",
    "        if score > 0:\n",
    "            scored.append((score, doc))\n",
    "    scored.sort(key=lambda x: x[0], reverse=True)\n",
    "    return [doc for _, doc in scored[:top_k]]\n",
    "\n",
    "def search_policies(query: str) -> str:\n",
    "    hits = simple_search(query, top_k=3)\n",
    "    return json.dumps({\"results\": [{\"id\": h[\"id\"], \"snippet\": h[\"text\"][:280]} for h in hits]})\n",
    "\n",
    "# Safe calculator tool using ast\n",
    "OPS = {ast.Add: operator.add, ast.Sub: operator.sub, ast.Mult: operator.mul, ast.Div: operator.truediv,\n",
    "       ast.Pow: operator.pow, ast.USub: operator.neg, ast.Mod: operator.mod, ast.FloorDiv: operator.floordiv}\n",
    "\n",
    "def _eval(node):\n",
    "    if isinstance(node, ast.Num): return node.n\n",
    "    if isinstance(node, ast.BinOp): return OPS[type(node.op)](_eval(node.left), _eval(node.right))\n",
    "    if isinstance(node, ast.UnaryOp): return OPS[type(node.op)](_eval(node.operand))\n",
    "    raise ValueError(\"Unsupported expression\")\n",
    "\n",
    "def calculator(expression: str) -> str:\n",
    "    try:\n",
    "        node = ast.parse(expression, mode='eval').body\n",
    "        return str(_eval(node))\n",
    "    except Exception as e:\n",
    "        return f\"Error: {e}\"\n",
    "\n",
    "tools = [\n",
    "    Tool(name=\"search_policies\", func=search_policies, description=\"Search a tiny policy corpus. Returns JSON.\"),\n",
    "    Tool(name=\"calculator\", func=calculator, description=\"Evaluate arithmetic like '2*(1500-200)'. Returns a number as text.\")\n",
    "]\n"
   ]
  },
  {
   "cell_type": "markdown",
   "id": "0f4d2cc7",
   "metadata": {
    "slideshow": {
     "slide_type": "slide"
    }
   },
   "source": [
    "# ReAct agent (ZERO_SHOT_REACT_DESCRIPTION) \n",
    "\n",
    "determines the goal directly from the questions without additional context. Here's how it works:\n",
    "\n",
    "The agent understands the questions using:\n",
    "\n",
    "Built-in prompt template: The ZERO_SHOT_REACT_DESCRIPTION agent uses a default prompt that instructs the LLM to:\n",
    "\n",
    "Analyze the question\n",
    "Reason about what information is needed\n",
    "Use available tools to find answers\n",
    "Formulate a response\n",
    "Tool knowledge: The agent has access to tools (defined in the tools parameter) - search and calculator.\n",
    "\n",
    "ReAct framework: The agent follows a \"Reasoning + Acting\" pattern where it:\n",
    "\n",
    "Thinks about what the question is asking\n",
    "Determines which tool to use\n",
    "Uses the tool to get information\n",
    "Continues reasoning until it reaches an answer\n",
    "The agent doesn't need explicit contextual guidance because the combination of the question itself, the available tools, and the LLM's capabilities allow it to formulate a plan to answer each insurance-related query."
   ]
  },
  {
   "cell_type": "code",
   "execution_count": 8,
   "id": "467773aa",
   "metadata": {},
   "outputs": [
    {
     "name": "stdout",
     "output_type": "stream",
     "text": [
      "Demo questions:\n",
      "- My work smartphone was stolen on a business trip. Is it covered, and what are the conditions?\n",
      "- If a laptop worth CHF 1,800 is accidentally damaged twice in a year under DeviceCare-Pro, what's the max total payout after any deductibles?\n",
      "- Does FleetAssist cover personal belongings inside a rental car?\n"
     ]
    },
    {
     "name": "stderr",
     "output_type": "stream",
     "text": [
      "/tmp/ipykernel_113865/1077567303.py:2: LangChainDeprecationWarning: LangChain agents will continue to be supported, but it is recommended for new use cases to be built with LangGraph. LangGraph offers a more flexible and full-featured framework for building agents, including support for tool-calling, persistence of state, and human-in-the-loop workflows. For details, refer to the `LangGraph documentation <https://langchain-ai.github.io/langgraph/>`_ as well as guides for `Migrating from AgentExecutor <https://python.langchain.com/docs/how_to/migrate_agent/>`_ and LangGraph's `Pre-built ReAct agent <https://langchain-ai.github.io/langgraph/how-tos/create-react-agent/>`_.\n",
      "  agent = initialize_agent(tools=tools, llm=llm, agent=AgentType.ZERO_SHOT_REACT_DESCRIPTION,\n"
     ]
    }
   ],
   "source": [
    "# Build the agent (ReAct)\n",
    "agent = initialize_agent(tools=tools, llm=llm, agent=AgentType.ZERO_SHOT_REACT_DESCRIPTION,\n",
    "                         verbose=True, handle_parsing_errors=True)\n",
    "\n",
    "demo_questions = [\n",
    "    \"My work smartphone was stolen on a business trip. Is it covered, and what are the conditions?\",\n",
    "    \"If a laptop worth CHF 1,800 is accidentally damaged twice in a year under DeviceCare-Pro, what's the max total payout after any deductibles?\",\n",
    "    \"Does FleetAssist cover personal belongings inside a rental car?\"\n",
    "]\n",
    "print(\"Demo questions:\", *demo_questions, sep=\"\\n- \")\n"
   ]
  },
  {
   "cell_type": "code",
   "execution_count": 9,
   "id": "44e61ae6",
   "metadata": {},
   "outputs": [
    {
     "name": "stdout",
     "output_type": "stream",
     "text": [
      "\n",
      "\n",
      "\u001b[1m> Entering new AgentExecutor chain...\u001b[0m\n",
      "\u001b[32;1m\u001b[1;3mI need to find out if the theft of a work smartphone on a business trip is covered under any relevant policies, and if so, what the conditions are. I'll search the policy corpus for information related to coverage for stolen work smartphones during business trips.  \n",
      "Action: search_policies  \n",
      "Action Input: \"stolen work smartphone business trip coverage\"  \u001b[0m\n",
      "Observation: \u001b[36;1m\u001b[1;3m{\"results\": [{\"id\": \"TravelPlus-2024\", \"snippet\": \"TravelPlus provides coverage for business travel including delayed flights, lost baggage, and emergency medical expenses up to CHF 10,000. Personal electronics are covered if they are lost due to theft, with a deductible of CHF 200. Pure misplacement is not covered.\"}, {\"id\": \"DeviceCare-Pro\", \"snippet\": \"DeviceCare-Pro covers accidental damage to smartphones and laptops used for work. Loss or theft is covered only when a police report is filed within 48 hours. Maximum payout CHF 1,500 per device, 2 incidents per policy year.\"}]}\u001b[0m\n",
      "Thought:\u001b[32;1m\u001b[1;3mI found two relevant policies regarding coverage for a stolen work smartphone during a business trip. \n",
      "\n",
      "1. **TravelPlus-2024**: This policy provides coverage for business travel, including personal electronics lost due to theft. However, there is a deductible of CHF 200, and it does not cover pure misplacement.\n",
      "\n",
      "2. **DeviceCare-Pro**: This policy covers loss or theft of smartphones if a police report is filed within 48 hours of the incident. The maximum payout is CHF 1,500 per device, with a limit of 2 incidents per policy year.\n",
      "\n",
      "Now, I need to summarize the conditions for coverage based on these findings.\n",
      "\n",
      "Final Answer: Yes, your work smartphone is covered if it was stolen during a business trip. Under the **TravelPlus-2024** policy, personal electronics are covered for theft with a CHF 200 deductible. Under the **DeviceCare-Pro** policy, coverage is available if a police report is filed within 48 hours, with a maximum payout of CHF 1,500 per device and a limit of 2 incidents per policy year.\u001b[0m\n",
      "\n",
      "\u001b[1m> Finished chain.\u001b[0m\n"
     ]
    },
    {
     "data": {
      "text/plain": [
       "{'input': 'My work smartphone was stolen on a business trip. Is it covered, and what are the conditions?',\n",
       " 'output': 'Yes, your work smartphone is covered if it was stolen during a business trip. Under the **TravelPlus-2024** policy, personal electronics are covered for theft with a CHF 200 deductible. Under the **DeviceCare-Pro** policy, coverage is available if a police report is filed within 48 hours, with a maximum payout of CHF 1,500 per device and a limit of 2 incidents per policy year.'}"
      ]
     },
     "execution_count": 9,
     "metadata": {},
     "output_type": "execute_result"
    }
   ],
   "source": [
    "agent.invoke(demo_questions[0])"
   ]
  },
  {
   "cell_type": "code",
   "execution_count": 10,
   "id": "3782036a",
   "metadata": {},
   "outputs": [
    {
     "name": "stdout",
     "output_type": "stream",
     "text": [
      "\n",
      "\n",
      "\u001b[1m> Entering new AgentExecutor chain...\u001b[0m\n",
      "\u001b[32;1m\u001b[1;3mTo determine the maximum total payout after any deductibles for a laptop worth CHF 1,800 that is accidentally damaged twice in a year under DeviceCare-Pro, I need to find the relevant policy details regarding coverage limits and deductibles for accidental damage. \n",
      "\n",
      "Action: search_policies\n",
      "Action Input: \"DeviceCare-Pro accidental damage coverage limits and deductibles\"\n",
      "\u001b[0m\n",
      "Observation: \u001b[36;1m\u001b[1;3m{\"results\": [{\"id\": \"DeviceCare-Pro\", \"snippet\": \"DeviceCare-Pro covers accidental damage to smartphones and laptops used for work. Loss or theft is covered only when a police report is filed within 48 hours. Maximum payout CHF 1,500 per device, 2 incidents per policy year.\"}, {\"id\": \"TravelPlus-2024\", \"snippet\": \"TravelPlus provides coverage for business travel including delayed flights, lost baggage, and emergency medical expenses up to CHF 10,000. Personal electronics are covered if they are lost due to theft, with a deductible of CHF 200. Pure misplacement is not covered.\"}, {\"id\": \"FleetAssist\", \"snippet\": \"FleetAssist covers rented vehicles during company travel. It excludes personal property inside the vehicle unless explicitly endorsed.\"}]}\u001b[0m\n",
      "Thought:\u001b[32;1m\u001b[1;3mThe policy for DeviceCare-Pro states that it covers accidental damage to laptops with a maximum payout of CHF 1,500 per device and allows for two incidents per policy year. Since the laptop is worth CHF 1,800, the maximum payout will be capped at CHF 1,500 for each incident. \n",
      "\n",
      "Now, I need to calculate the total payout for two incidents. \n",
      "\n",
      "Action: calculator\n",
      "Action Input: \"2 * 1500\"\u001b[0m\n",
      "Observation: \u001b[33;1m\u001b[1;3m3000\u001b[0m\n",
      "Thought:"
     ]
    },
    {
     "name": "stderr",
     "output_type": "stream",
     "text": [
      "/tmp/ipykernel_113865/1964599603.py:28: DeprecationWarning: ast.Num is deprecated and will be removed in Python 3.14; use ast.Constant instead\n",
      "  if isinstance(node, ast.Num): return node.n\n",
      "/tmp/ipykernel_113865/1964599603.py:28: DeprecationWarning: Attribute n is deprecated and will be removed in Python 3.14; use value instead\n",
      "  if isinstance(node, ast.Num): return node.n\n"
     ]
    },
    {
     "name": "stdout",
     "output_type": "stream",
     "text": [
      "\u001b[32;1m\u001b[1;3mThe maximum total payout for the two incidents of accidental damage is CHF 3,000. However, since the policy covers only up to CHF 1,500 per incident, the total payout for both incidents is CHF 3,000. \n",
      "\n",
      "Final Answer: CHF 3,000\u001b[0m\n",
      "\n",
      "\u001b[1m> Finished chain.\u001b[0m\n"
     ]
    },
    {
     "data": {
      "text/plain": [
       "{'input': \"If a laptop worth CHF 1,800 is accidentally damaged twice in a year under DeviceCare-Pro, what's the max total payout after any deductibles?\",\n",
       " 'output': 'CHF 3,000'}"
      ]
     },
     "execution_count": 10,
     "metadata": {},
     "output_type": "execute_result"
    }
   ],
   "source": [
    "agent.invoke(demo_questions[1])"
   ]
  },
  {
   "cell_type": "code",
   "execution_count": null,
   "id": "a7d68f70",
   "metadata": {},
   "outputs": [
    {
     "name": "stdout",
     "output_type": "stream",
     "text": [
      "\n",
      "\n",
      "\u001b[1m> Entering new AgentExecutor chain...\u001b[0m\n",
      "\u001b[32;1m\u001b[1;3mI need to check if there are any policies related to FleetAssist that mention coverage for personal belongings inside a rental car. This will help me determine if such coverage exists. \n",
      "Action: search_policies\n",
      "Action Input: \"FleetAssist personal belongings rental car coverage\"\u001b[0m\n",
      "Observation: \u001b[36;1m\u001b[1;3m{\"results\": [{\"id\": \"TravelPlus-2024\", \"snippet\": \"TravelPlus provides coverage for business travel including delayed flights, lost baggage, and emergency medical expenses up to CHF 10,000. Personal electronics are covered if they are lost due to theft, with a deductible of CHF 200. Pure misplacement is not covered.\"}, {\"id\": \"FleetAssist\", \"snippet\": \"FleetAssist covers rented vehicles during company travel. It excludes personal property inside the vehicle unless explicitly endorsed.\"}, {\"id\": \"DeviceCare-Pro\", \"snippet\": \"DeviceCare-Pro covers accidental damage to smartphones and laptops used for work. Loss or theft is covered only when a police report is filed within 48 hours. Maximum payout CHF 1,500 per device, 2 incidents per policy year.\"}]}\u001b[0m\n",
      "Thought:\u001b[32;1m\u001b[1;3mThe search results indicate that FleetAssist does not cover personal property inside the rental vehicle unless there is an explicit endorsement for such coverage. This means that personal belongings are generally not covered under the standard FleetAssist policy.\n",
      "\n",
      "Final Answer: No, FleetAssist does not cover personal belongings inside a rental car unless explicitly endorsed.\u001b[0m\n",
      "\n",
      "\u001b[1m> Finished chain.\u001b[0m\n"
     ]
    },
    {
     "data": {
      "text/plain": [
       "{'input': 'Does FleetAssist cover personal belongings inside a rental car?',\n",
       " 'output': 'No, FleetAssist does not cover personal belongings inside a rental car unless explicitly endorsed.'}"
      ]
     },
     "execution_count": 12,
     "metadata": {},
     "output_type": "execute_result"
    }
   ],
   "source": [
    "agent.invoke(demo_questions[2])"
   ]
  },
  {
   "cell_type": "markdown",
   "id": "2beb1b65",
   "metadata": {},
   "source": [
    "# Let's evaluate the questions:"
   ]
  },
  {
   "cell_type": "code",
   "execution_count": 11,
   "id": "3e3a4e14",
   "metadata": {},
   "outputs": [
    {
     "name": "stdout",
     "output_type": "stream",
     "text": [
      "\n",
      "\n",
      "\u001b[1m> Entering new AgentExecutor chain...\u001b[0m\n",
      "\u001b[32;1m\u001b[1;3mI need to find out if a stolen work smartphone is covered under a policy and what the specific conditions are for coverage. I'll search the policy corpus for relevant information regarding coverage for stolen work devices.  \n",
      "Action: search_policies  \n",
      "Action Input: \"stolen work smartphone coverage\"  \u001b[0m\n",
      "Observation: \u001b[36;1m\u001b[1;3m{\"results\": [{\"id\": \"DeviceCare-Pro\", \"snippet\": \"DeviceCare-Pro covers accidental damage to smartphones and laptops used for work. Loss or theft is covered only when a police report is filed within 48 hours. Maximum payout CHF 1,500 per device, 2 incidents per policy year.\"}, {\"id\": \"TravelPlus-2024\", \"snippet\": \"TravelPlus provides coverage for business travel including delayed flights, lost baggage, and emergency medical expenses up to CHF 10,000. Personal electronics are covered if they are lost due to theft, with a deductible of CHF 200. Pure misplacement is not covered.\"}]}\u001b[0m\n",
      "Thought:\u001b[32;1m\u001b[1;3mI found two relevant policies regarding coverage for a stolen work smartphone. The first policy, DeviceCare-Pro, covers loss or theft of smartphones used for work, but requires a police report to be filed within 48 hours. The maximum payout is CHF 1,500 per device, with a limit of two incidents per policy year. The second policy, TravelPlus-2024, covers personal electronics lost due to theft during business travel, but has a deductible of CHF 200. However, it does not cover misplacement.\n",
      "\n",
      "Final Answer: Yes, your stolen work smartphone is covered under the DeviceCare-Pro policy if a police report is filed within 48 hours, with a maximum payout of CHF 1,500. The TravelPlus-2024 policy also covers theft during business travel but has a CHF 200 deductible.\u001b[0m\n",
      "\n",
      "\u001b[1m> Finished chain.\u001b[0m\n",
      "\n",
      "\n",
      "\u001b[1m> Entering new AgentExecutor chain...\u001b[0m\n",
      "\u001b[32;1m\u001b[1;3mI need to find out if FleetAssist includes coverage for personal belongings inside a rental car. I'll search the policy details for any mention of personal belongings coverage.  \n",
      "Action: search_policies  \n",
      "Action Input: \"FleetAssist personal belongings coverage rental car\"  \u001b[0m\n",
      "Observation: \u001b[36;1m\u001b[1;3m{\"results\": [{\"id\": \"TravelPlus-2024\", \"snippet\": \"TravelPlus provides coverage for business travel including delayed flights, lost baggage, and emergency medical expenses up to CHF 10,000. Personal electronics are covered if they are lost due to theft, with a deductible of CHF 200. Pure misplacement is not covered.\"}, {\"id\": \"FleetAssist\", \"snippet\": \"FleetAssist covers rented vehicles during company travel. It excludes personal property inside the vehicle unless explicitly endorsed.\"}, {\"id\": \"DeviceCare-Pro\", \"snippet\": \"DeviceCare-Pro covers accidental damage to smartphones and laptops used for work. Loss or theft is covered only when a police report is filed within 48 hours. Maximum payout CHF 1,500 per device, 2 incidents per policy year.\"}]}\u001b[0m\n",
      "Thought:\u001b[32;1m\u001b[1;3mThe search results indicate that FleetAssist does not cover personal property inside the rental vehicle unless there is an explicit endorsement for such coverage. This means that personal belongings are generally not covered under the standard FleetAssist policy. \n",
      "\n",
      "Final Answer: No, FleetAssist does not cover personal belongings inside a rental car unless explicitly endorsed.\u001b[0m\n",
      "\n",
      "\u001b[1m> Finished chain.\u001b[0m\n",
      "\n",
      "[name=LangChain agent micro‑eval]\n",
      "                                            question  passed  \\\n",
      "0  My work smartphone was stolen on a business tr...    True   \n",
      "1  Does FleetAssist cover personal belongings ins...    True   \n",
      "\n",
      "                                              answer  \n",
      "0  Yes, your stolen work smartphone is covered un...  \n",
      "1  No, FleetAssist does not cover personal belong...  \n"
     ]
    },
    {
     "data": {
      "text/html": [
       "<div>\n",
       "<style scoped>\n",
       "    .dataframe tbody tr th:only-of-type {\n",
       "        vertical-align: middle;\n",
       "    }\n",
       "\n",
       "    .dataframe tbody tr th {\n",
       "        vertical-align: top;\n",
       "    }\n",
       "\n",
       "    .dataframe thead th {\n",
       "        text-align: right;\n",
       "    }\n",
       "</style>\n",
       "<table border=\"1\" class=\"dataframe\">\n",
       "  <thead>\n",
       "    <tr style=\"text-align: right;\">\n",
       "      <th></th>\n",
       "      <th>question</th>\n",
       "      <th>passed</th>\n",
       "      <th>answer</th>\n",
       "    </tr>\n",
       "  </thead>\n",
       "  <tbody>\n",
       "    <tr>\n",
       "      <th>0</th>\n",
       "      <td>My work smartphone was stolen on a business tr...</td>\n",
       "      <td>True</td>\n",
       "      <td>Yes, your stolen work smartphone is covered un...</td>\n",
       "    </tr>\n",
       "    <tr>\n",
       "      <th>1</th>\n",
       "      <td>Does FleetAssist cover personal belongings ins...</td>\n",
       "      <td>True</td>\n",
       "      <td>No, FleetAssist does not cover personal belong...</td>\n",
       "    </tr>\n",
       "  </tbody>\n",
       "</table>\n",
       "</div>"
      ],
      "text/plain": [
       "                                            question  passed  \\\n",
       "0  My work smartphone was stolen on a business tr...    True   \n",
       "1  Does FleetAssist cover personal belongings ins...    True   \n",
       "\n",
       "                                              answer  \n",
       "0  Yes, your stolen work smartphone is covered un...  \n",
       "1  No, FleetAssist does not cover personal belong...  "
      ]
     },
     "execution_count": 11,
     "metadata": {},
     "output_type": "execute_result"
    }
   ],
   "source": [
    "# Micro-evaluator\n",
    "import pandas as pd\n",
    "try:\n",
    "    from caas_jupyter_tools import display_dataframe_to_user\n",
    "except Exception:\n",
    "    def display_dataframe_to_user(name, df):\n",
    "        print(f\"\\n[name={name}]\\n{df}\")\n",
    "\n",
    "def contains_all(text: str, phrases: list[str]) -> bool:\n",
    "    low = text.lower()\n",
    "    return all(p.lower() in low for p in phrases)\n",
    "\n",
    "tests = [\n",
    "    {\"q\": demo_questions[0], \"must\": [\"covered\", \"theft\", \"police\", \"48\"]},\n",
    "    {\"q\": demo_questions[2], \"must\": [\"not\", \"unless\", \"endorsed\"]},\n",
    "]\n",
    "rows = []\n",
    "for t in tests:\n",
    "    out = agent.invoke(t[\"q\"])\n",
    "    ans = out[\"output\"] if isinstance(out, dict) and \"output\" in out else str(out)\n",
    "    rows.append({\"question\": t[\"q\"], \"passed\": contains_all(ans, t[\"must\"]), \"answer\": ans})\n",
    "\n",
    "df = pd.DataFrame(rows)\n",
    "display_dataframe_to_user(\"LangChain agent micro‑eval\", df)\n",
    "df\n"
   ]
  },
  {
   "cell_type": "markdown",
   "id": "441ab341",
   "metadata": {},
   "source": [
    "### Call your LangFlow flow (optional)"
   ]
  },
  {
   "cell_type": "code",
   "execution_count": 16,
   "id": "6a578688",
   "metadata": {},
   "outputs": [
    {
     "ename": "HTTPError",
     "evalue": "403 Client Error: Forbidden for url: http://127.0.0.1:7860/api/v1/run/55e5414b-966a-48dc-8bc4-bfb2e3168c72",
     "output_type": "error",
     "traceback": [
      "\u001b[31m---------------------------------------------------------------------------\u001b[39m",
      "\u001b[31mHTTPError\u001b[39m                                 Traceback (most recent call last)",
      "\u001b[36mCell\u001b[39m\u001b[36m \u001b[39m\u001b[32mIn[16]\u001b[39m\u001b[32m, line 13\u001b[39m\n\u001b[32m     10\u001b[39m         \u001b[38;5;28;01mreturn\u001b[39;00m json.dumps(data, indent=\u001b[32m2\u001b[39m)\n\u001b[32m     12\u001b[39m \u001b[38;5;66;03m# Example:\u001b[39;00m\n\u001b[32m---> \u001b[39m\u001b[32m13\u001b[39m \u001b[38;5;28mprint\u001b[39m(\u001b[43mrun_langflow\u001b[49m\u001b[43m(\u001b[49m\u001b[33;43m\"\u001b[39;49m\u001b[33;43m55e5414b-966a-48dc-8bc4-bfb2e3168c72\u001b[39;49m\u001b[33;43m\"\u001b[39;49m\u001b[43m,\u001b[49m\u001b[43m \u001b[49m\u001b[33;43m\"\u001b[39;49m\u001b[33;43mHello from the notebook! Tell me what I can do with this integration between LangChain and LangFlow\u001b[39;49m\u001b[33;43m\"\u001b[39;49m\u001b[43m)\u001b[49m)\n",
      "\u001b[36mCell\u001b[39m\u001b[36m \u001b[39m\u001b[32mIn[16]\u001b[39m\u001b[32m, line 5\u001b[39m, in \u001b[36mrun_langflow\u001b[39m\u001b[34m(flow_id, user_input, base_url)\u001b[39m\n\u001b[32m      3\u001b[39m url = \u001b[33mf\u001b[39m\u001b[33m\"\u001b[39m\u001b[38;5;132;01m{\u001b[39;00mbase_url\u001b[38;5;132;01m}\u001b[39;00m\u001b[33m/run/\u001b[39m\u001b[38;5;132;01m{\u001b[39;00mflow_id\u001b[38;5;132;01m}\u001b[39;00m\u001b[33m\"\u001b[39m\n\u001b[32m      4\u001b[39m payload = {\u001b[33m\"\u001b[39m\u001b[33minput_value\u001b[39m\u001b[33m\"\u001b[39m: user_input, \u001b[33m\"\u001b[39m\u001b[33moutput_type\u001b[39m\u001b[33m\"\u001b[39m: \u001b[33m\"\u001b[39m\u001b[33mchat\u001b[39m\u001b[33m\"\u001b[39m, \u001b[33m\"\u001b[39m\u001b[33minput_type\u001b[39m\u001b[33m\"\u001b[39m: \u001b[33m\"\u001b[39m\u001b[33mchat\u001b[39m\u001b[33m\"\u001b[39m}\n\u001b[32m----> \u001b[39m\u001b[32m5\u001b[39m r = requests.post(url, json=payload, timeout=\u001b[32m60\u001b[39m); \u001b[43mr\u001b[49m\u001b[43m.\u001b[49m\u001b[43mraise_for_status\u001b[49m\u001b[43m(\u001b[49m\u001b[43m)\u001b[49m\n\u001b[32m      6\u001b[39m data = r.json()\n\u001b[32m      7\u001b[39m \u001b[38;5;28;01mtry\u001b[39;00m:\n",
      "\u001b[36mFile \u001b[39m\u001b[32m~/github/Agents unplugged_ real_no_magic_no_fuss/.venv/lib/python3.12/site-packages/requests/models.py:1026\u001b[39m, in \u001b[36mResponse.raise_for_status\u001b[39m\u001b[34m(self)\u001b[39m\n\u001b[32m   1021\u001b[39m     http_error_msg = (\n\u001b[32m   1022\u001b[39m         \u001b[33mf\u001b[39m\u001b[33m\"\u001b[39m\u001b[38;5;132;01m{\u001b[39;00m\u001b[38;5;28mself\u001b[39m.status_code\u001b[38;5;132;01m}\u001b[39;00m\u001b[33m Server Error: \u001b[39m\u001b[38;5;132;01m{\u001b[39;00mreason\u001b[38;5;132;01m}\u001b[39;00m\u001b[33m for url: \u001b[39m\u001b[38;5;132;01m{\u001b[39;00m\u001b[38;5;28mself\u001b[39m.url\u001b[38;5;132;01m}\u001b[39;00m\u001b[33m\"\u001b[39m\n\u001b[32m   1023\u001b[39m     )\n\u001b[32m   1025\u001b[39m \u001b[38;5;28;01mif\u001b[39;00m http_error_msg:\n\u001b[32m-> \u001b[39m\u001b[32m1026\u001b[39m     \u001b[38;5;28;01mraise\u001b[39;00m HTTPError(http_error_msg, response=\u001b[38;5;28mself\u001b[39m)\n",
      "\u001b[31mHTTPError\u001b[39m: 403 Client Error: Forbidden for url: http://127.0.0.1:7860/api/v1/run/55e5414b-966a-48dc-8bc4-bfb2e3168c72"
     ]
    }
   ],
   "source": [
    "import requests, json\n",
    "def run_langflow(flow_id: str, user_input: str, base_url: str = \"http://127.0.0.1:7860/api/v1\"):\n",
    "    url = f\"{base_url}/run/{flow_id}\"\n",
    "    payload = {\"input_value\": user_input, \"output_type\": \"chat\", \"input_type\": \"chat\"}\n",
    "    r = requests.post(url, json=payload, timeout=60); r.raise_for_status()\n",
    "    data = r.json()\n",
    "    try:\n",
    "        return data[\"outputs\"][0][\"outputs\"][0][\"results\"][\"message\"][\"text\"]\n",
    "    except Exception:\n",
    "        return json.dumps(data, indent=2)\n",
    "\n",
    "# Example:\n",
    "print(run_langflow(\"55e5414b-966a-48dc-8bc4-bfb2e3168c72\", \"Hello from the notebook! Tell me what I can do with this integration between LangChain and LangFlow\"))\n"
   ]
  },
  {
   "cell_type": "code",
   "execution_count": null,
   "id": "64c53cd9",
   "metadata": {},
   "outputs": [],
   "source": []
  }
 ],
 "metadata": {
  "kernelspec": {
   "display_name": ".venv",
   "language": "python",
   "name": "python3"
  },
  "language_info": {
   "codemirror_mode": {
    "name": "ipython",
    "version": 3
   },
   "file_extension": ".py",
   "mimetype": "text/x-python",
   "name": "python",
   "nbconvert_exporter": "python",
   "pygments_lexer": "ipython3",
   "version": "3.12.3"
  }
 },
 "nbformat": 4,
 "nbformat_minor": 5
}
